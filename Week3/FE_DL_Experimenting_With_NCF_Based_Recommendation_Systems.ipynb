{
  "cells": [
    {
      "cell_type": "markdown",
      "metadata": {
        "id": "view-in-github",
        "colab_type": "text"
      },
      "source": [
        "<a href=\"https://colab.research.google.com/github/falawar7/AAI_635O/blob/main/Week3/FE_DL_Experimenting_With_NCF_Based_Recommendation_Systems.ipynb\" target=\"_parent\"><img src=\"https://colab.research.google.com/assets/colab-badge.svg\" alt=\"Open In Colab\"/></a>"
      ]
    },
    {
      "cell_type": "code",
      "execution_count": null,
      "metadata": {
        "id": "AekEB0E8Msx3"
      },
      "outputs": [],
      "source": [
        "#!pip install recommenders[gpu] -f https://download.pytorch.org/whl/cu111/torch_stable.html"
      ]
    },
    {
      "cell_type": "code",
      "execution_count": null,
      "metadata": {
        "id": "8D2VEvObbfMZ"
      },
      "outputs": [],
      "source": [
        "#!pip install recommenders"
      ]
    },
    {
      "cell_type": "code",
      "execution_count": null,
      "metadata": {
        "colab": {
          "base_uri": "https://localhost:8080/"
        },
        "id": "UsLaFbgbNpdF",
        "outputId": "f4ef8e3b-6995-4488-ded3-b997f989afda"
      },
      "outputs": [
        {
          "name": "stdout",
          "output_type": "stream",
          "text": [
            "The autoreload extension is already loaded. To reload it, use:\n",
            "  %reload_ext autoreload\n"
          ]
        }
      ],
      "source": [
        "%load_ext autoreload\n",
        "%autoreload 2"
      ]
    },
    {
      "cell_type": "code",
      "execution_count": null,
      "metadata": {
        "colab": {
          "base_uri": "https://localhost:8080/"
        },
        "id": "U0_4npjleTxp",
        "outputId": "c5c61bc2-3fb3-4b26-dd0f-c8228689f108"
      },
      "outputs": [
        {
          "name": "stdout",
          "output_type": "stream",
          "text": [
            "System version: 3.12.4 (tags/v3.12.4:8e8a4ba, Jun  6 2024, 19:30:16) [MSC v.1940 64 bit (AMD64)]\n",
            "Pandas version: 2.2.2\n",
            "Tensorflow version: 2.19.0\n"
          ]
        }
      ],
      "source": [
        "import sys\n",
        "import pandas as pd\n",
        "import numpy as np\n",
        "import tensorflow as tf\n",
        "tf.get_logger().setLevel('ERROR') # only show error messages\n",
        "\n",
        "from recommenders.utils.timer import Timer\n",
        "from recommenders.models.ncf.ncf_singlenode import NCF\n",
        "from recommenders.models.ncf.dataset import Dataset as NCFDataset\n",
        "#from recommenders.datasets import movielens\n",
        "from recommenders.utils.notebook_utils import is_jupyter\n",
        "from recommenders.datasets.python_splitters import python_chrono_split,python_stratified_split\n",
        "from recommenders.evaluation.python_evaluation import (rmse, mae, rsquared, exp_var, map_at_k, ndcg_at_k, precision_at_k,\n",
        "                                                     recall_at_k, get_top_k_items)\n",
        "\n",
        "print(\"System version: {}\".format(sys.version))\n",
        "print(\"Pandas version: {}\".format(pd.__version__))\n",
        "print(\"Tensorflow version: {}\".format(tf.__version__))"
      ]
    },
    {
      "cell_type": "code",
      "execution_count": null,
      "metadata": {
        "id": "jkyZsIgbfK8w"
      },
      "outputs": [],
      "source": [
        "#!pip install --upgrade tensorflow"
      ]
    },
    {
      "cell_type": "raw",
      "metadata": {
        "id": "gzpZN2DDc4hi",
        "outputId": "274211ae-f73c-4948-dc59-cc1569e189d0"
      },
      "source": [
        "#!pip install recommenders[gpu] -f https://download.pytorch.org/whl/cu111/torch_stable.html\n",
        "\n",
        "import sys\n",
        "import pandas as pd\n",
        "import tensorflow as tf\n",
        "tf.get_logger().setLevel('ERROR') # only show error messages\n",
        "\n",
        "from recommenders.utils.timer import Timer\n",
        "from recommenders.models.ncf.ncf_singlenode import NCF\n",
        "from recommenders.models.ncf.dataset import Dataset as NCFDataset\n",
        "#from recommenders.datasets import movielens\n",
        "from recommenders.utils.notebook_utils import is_jupyter\n",
        "from recommenders.datasets.python_splitters import python_chrono_split,python_stratified_split\n",
        "from recommenders.evaluation.python_evaluation import (rmse, mae, rsquared, exp_var, map_at_k, ndcg_at_k, precision_at_k,\n",
        "                                                     recall_at_k, get_top_k_items)\n",
        "\n",
        "print(\"System version: {}\".format(sys.version))\n",
        "print(\"Pandas version: {}\".format(pd.__version__))\n",
        "print(\"Tensorflow version: {}\".format(tf.__version__))"
      ]
    },
    {
      "cell_type": "code",
      "execution_count": null,
      "metadata": {
        "id": "MGFvEHcnOW7d"
      },
      "outputs": [],
      "source": [
        "# top k items to recommend\n",
        "TOP_K = 10\n",
        "\n",
        "# Select MovieLens data size: 100k, 1m, 10m, or 20m\n",
        "#MOVIELENS_DATA_SIZE = '100k'\n",
        "\n",
        "# Model parameters\n",
        "EPOCHS = 50\n",
        "BATCH_SIZE = 256\n",
        "\n",
        "SEED = 42"
      ]
    },
    {
      "cell_type": "code",
      "execution_count": null,
      "metadata": {
        "id": "IMGsOpIAd3NG"
      },
      "outputs": [],
      "source": [
        "#from google.colab import drive\n",
        "#drive.mount('/content/drive')"
      ]
    },
    {
      "cell_type": "markdown",
      "metadata": {
        "id": "iFJ6jg3Hkrze"
      },
      "source": [
        "## 1. Load dataset"
      ]
    },
    {
      "cell_type": "code",
      "execution_count": null,
      "metadata": {
        "id": "UKpFFeWoTIOl"
      },
      "outputs": [],
      "source": [
        "#df = pd.read_excel('/content/drive/Othercomputers/THINKPAD-T14/AI/Reommender_System/Week2/Lesson2_From_Course/Rec_sys_data.xlsx')\n",
        "df = pd.read_excel('Rec_sys_data.xlsx')"
      ]
    },
    {
      "cell_type": "code",
      "execution_count": null,
      "metadata": {
        "id": "_LxvPPL4T54E"
      },
      "outputs": [],
      "source": [
        "df= df[['CustomerID','StockCode','Quantity','DeliveryDate']]"
      ]
    },
    {
      "cell_type": "code",
      "execution_count": null,
      "metadata": {
        "id": "U0tij_YFclX_",
        "outputId": "9bc8c10e-0d37-41b9-dd55-93da19cbca39"
      },
      "outputs": [
        {
          "name": "stderr",
          "output_type": "stream",
          "text": [
            "C:\\Users\\Faisal\\AppData\\Local\\Temp\\ipykernel_12592\\27731373.py:1: SettingWithCopyWarning: \n",
            "A value is trying to be set on a copy of a slice from a DataFrame.\n",
            "Try using .loc[row_indexer,col_indexer] = value instead\n",
            "\n",
            "See the caveats in the documentation: https://pandas.pydata.org/pandas-docs/stable/user_guide/indexing.html#returning-a-view-versus-a-copy\n",
            "  df[\"StockCode\"] = df[\"StockCode\"].apply(lambda x: pd.to_numeric(x, errors='coerce')).dropna()\n"
          ]
        }
      ],
      "source": [
        "df[\"StockCode\"] = df[\"StockCode\"].apply(lambda x: pd.to_numeric(x, errors='coerce')).dropna()"
      ]
    },
    {
      "cell_type": "code",
      "execution_count": null,
      "metadata": {
        "colab": {
          "base_uri": "https://localhost:8080/",
          "height": 441
        },
        "id": "1qV4Lqp1Ux8g",
        "outputId": "261039ec-310e-4a4f-ef4b-398a013b64d2",
        "scrolled": true
      },
      "outputs": [
        {
          "name": "stdout",
          "output_type": "stream",
          "text": [
            "(246706, 4)\n"
          ]
        },
        {
          "data": {
            "text/html": [
              "<div>\n",
              "<style scoped>\n",
              "    .dataframe tbody tr th:only-of-type {\n",
              "        vertical-align: middle;\n",
              "    }\n",
              "\n",
              "    .dataframe tbody tr th {\n",
              "        vertical-align: top;\n",
              "    }\n",
              "\n",
              "    .dataframe thead th {\n",
              "        text-align: right;\n",
              "    }\n",
              "</style>\n",
              "<table border=\"1\" class=\"dataframe\">\n",
              "  <thead>\n",
              "    <tr style=\"text-align: right;\">\n",
              "      <th></th>\n",
              "      <th>CustomerID</th>\n",
              "      <th>StockCode</th>\n",
              "      <th>Quantity</th>\n",
              "      <th>DeliveryDate</th>\n",
              "    </tr>\n",
              "  </thead>\n",
              "  <tbody>\n",
              "    <tr>\n",
              "      <th>1</th>\n",
              "      <td>17850</td>\n",
              "      <td>71053.0</td>\n",
              "      <td>6</td>\n",
              "      <td>2010-12-02 08:26:00</td>\n",
              "    </tr>\n",
              "    <tr>\n",
              "      <th>2</th>\n",
              "      <td>17850</td>\n",
              "      <td>21730.0</td>\n",
              "      <td>6</td>\n",
              "      <td>2010-12-03 08:26:00</td>\n",
              "    </tr>\n",
              "    <tr>\n",
              "      <th>4</th>\n",
              "      <td>17850</td>\n",
              "      <td>22752.0</td>\n",
              "      <td>2</td>\n",
              "      <td>2010-12-04 08:26:00</td>\n",
              "    </tr>\n",
              "    <tr>\n",
              "      <th>7</th>\n",
              "      <td>17850</td>\n",
              "      <td>22633.0</td>\n",
              "      <td>6</td>\n",
              "      <td>2010-12-04 08:28:00</td>\n",
              "    </tr>\n",
              "    <tr>\n",
              "      <th>8</th>\n",
              "      <td>17850</td>\n",
              "      <td>22632.0</td>\n",
              "      <td>6</td>\n",
              "      <td>2010-12-03 08:28:00</td>\n",
              "    </tr>\n",
              "    <tr>\n",
              "      <th>...</th>\n",
              "      <td>...</td>\n",
              "      <td>...</td>\n",
              "      <td>...</td>\n",
              "      <td>...</td>\n",
              "    </tr>\n",
              "    <tr>\n",
              "      <th>272399</th>\n",
              "      <td>15249</td>\n",
              "      <td>23399.0</td>\n",
              "      <td>12</td>\n",
              "      <td>2011-10-08 11:37:00</td>\n",
              "    </tr>\n",
              "    <tr>\n",
              "      <th>272400</th>\n",
              "      <td>15249</td>\n",
              "      <td>22727.0</td>\n",
              "      <td>4</td>\n",
              "      <td>2011-10-08 11:37:00</td>\n",
              "    </tr>\n",
              "    <tr>\n",
              "      <th>272401</th>\n",
              "      <td>15249</td>\n",
              "      <td>23434.0</td>\n",
              "      <td>12</td>\n",
              "      <td>2011-10-08 11:37:00</td>\n",
              "    </tr>\n",
              "    <tr>\n",
              "      <th>272402</th>\n",
              "      <td>15249</td>\n",
              "      <td>23340.0</td>\n",
              "      <td>12</td>\n",
              "      <td>2011-10-07 11:37:00</td>\n",
              "    </tr>\n",
              "    <tr>\n",
              "      <th>272403</th>\n",
              "      <td>15249</td>\n",
              "      <td>23209.0</td>\n",
              "      <td>10</td>\n",
              "      <td>2011-10-08 11:37:00</td>\n",
              "    </tr>\n",
              "  </tbody>\n",
              "</table>\n",
              "<p>246706 rows × 4 columns</p>\n",
              "</div>"
            ],
            "text/plain": [
              "        CustomerID  StockCode  Quantity        DeliveryDate\n",
              "1            17850    71053.0         6 2010-12-02 08:26:00\n",
              "2            17850    21730.0         6 2010-12-03 08:26:00\n",
              "4            17850    22752.0         2 2010-12-04 08:26:00\n",
              "7            17850    22633.0         6 2010-12-04 08:28:00\n",
              "8            17850    22632.0         6 2010-12-03 08:28:00\n",
              "...            ...        ...       ...                 ...\n",
              "272399       15249    23399.0        12 2011-10-08 11:37:00\n",
              "272400       15249    22727.0         4 2011-10-08 11:37:00\n",
              "272401       15249    23434.0        12 2011-10-08 11:37:00\n",
              "272402       15249    23340.0        12 2011-10-07 11:37:00\n",
              "272403       15249    23209.0        10 2011-10-08 11:37:00\n",
              "\n",
              "[246706 rows x 4 columns]"
            ]
          },
          "execution_count": 17,
          "metadata": {},
          "output_type": "execute_result"
        }
      ],
      "source": [
        "df = df.dropna()\n",
        "print(df.shape)\n",
        "df"
      ]
    },
    {
      "cell_type": "code",
      "execution_count": null,
      "metadata": {
        "id": "C67TctvNd5mu"
      },
      "outputs": [],
      "source": [
        "#header=[\"userID\", \"itemID\", \"rating\", \"timestamp\"]\n",
        "\n",
        "df = df.rename(columns={\n",
        "\n",
        "    'CustomerID':\"userID\",'StockCode':\"itemID\",'Quantity':\"rating\",'DeliveryDate':\"timestamp\"\n",
        "\n",
        "})\n",
        "\n",
        "df[\"userID\"] = df[\"userID\"].astype(int)\n",
        "df[\"itemID\"] = df[\"itemID\"].astype(int)"
      ]
    },
    {
      "cell_type": "markdown",
      "metadata": {
        "id": "8OScdDfHkjpk"
      },
      "source": [
        "## 2. Split the data using the Spark chronological splitter provided in utilities"
      ]
    },
    {
      "cell_type": "code",
      "execution_count": null,
      "metadata": {
        "id": "aqSnVDYjUjVF"
      },
      "outputs": [],
      "source": [
        "train, test = python_chrono_split(df, 0.75)"
      ]
    },
    {
      "cell_type": "code",
      "execution_count": null,
      "metadata": {
        "id": "rq4wspPAclYA"
      },
      "outputs": [],
      "source": [
        "train_file = \"./train.csv\"\n",
        "test_file = \"./test.csv\"\n",
        "train.to_csv(train_file, index=False)\n",
        "test.to_csv(test_file, index=False)"
      ]
    },
    {
      "cell_type": "code",
      "execution_count": null,
      "metadata": {
        "colab": {
          "base_uri": "https://localhost:8080/"
        },
        "id": "jGChh0XpclYA",
        "outputId": "29ba9859-8468-44ca-df2e-46829d7e8f88",
        "scrolled": true
      },
      "outputs": [
        {
          "name": "stdout",
          "output_type": "stream",
          "text": [
            "<class 'pandas.core.frame.DataFrame'>\n",
            "Index: 185041 entries, 37126 to 137323\n",
            "Data columns (total 4 columns):\n",
            " #   Column     Non-Null Count   Dtype         \n",
            "---  ------     --------------   -----         \n",
            " 0   userID     185041 non-null  int64         \n",
            " 1   itemID     185041 non-null  int64         \n",
            " 2   rating     185041 non-null  int64         \n",
            " 3   timestamp  185041 non-null  datetime64[ns]\n",
            "dtypes: datetime64[ns](1), int64(3)\n",
            "memory usage: 7.1 MB\n"
          ]
        }
      ],
      "source": [
        "train.info()"
      ]
    },
    {
      "cell_type": "markdown",
      "metadata": {
        "id": "sMneMQzjkd72"
      },
      "source": [
        "## 3. Train the NCF model on the training data, and get the top-k recommendations for our testing data\n",
        "NCF accepts implicit feedback and generates prospensity of items to be recommended to users in the scale of 0 to 1. A recommended item list can then be generated based on the scores. Note that this quickstart notebook is using a smaller number of epochs to reduce time for training. As a consequence, the model performance will be slighlty deteriorated."
      ]
    },
    {
      "cell_type": "code",
      "execution_count": null,
      "metadata": {
        "colab": {
          "base_uri": "https://localhost:8080/"
        },
        "id": "Q64_tRl5emGN",
        "outputId": "bd462b21-49c5-4a48-f340-26ec196db6ca"
      },
      "outputs": [
        {
          "name": "stderr",
          "output_type": "stream",
          "text": [
            "INFO:recommenders.models.ncf.dataset:Indexing ./train.csv ...\n",
            "INFO:recommenders.models.ncf.dataset:Indexing ./test.csv ...\n",
            "INFO:recommenders.models.ncf.dataset:Indexing ./test_full.csv ...\n"
          ]
        }
      ],
      "source": [
        "data = NCFDataset(train_file=train_file, test_file=test_file, seed=SEED)"
      ]
    },
    {
      "cell_type": "code",
      "execution_count": null,
      "metadata": {
        "colab": {
          "base_uri": "https://localhost:8080/"
        },
        "id": "7nrT0JFNfUT4",
        "outputId": "f74e988e-da28-4970-8be9-f9f0b92bf250"
      },
      "outputs": [
        {
          "name": "stderr",
          "output_type": "stream",
          "text": [
            "C:\\Users\\Faisal\\AppData\\Local\\Programs\\Python\\Python312\\Lib\\site-packages\\tensorflow\\python\\keras\\engine\\base_layer_v1.py:1694: UserWarning: `layer.apply` is deprecated and will be removed in a future version. Please use `layer.__call__` method instead.\n",
            "  warnings.warn('`layer.apply` is deprecated and '\n"
          ]
        }
      ],
      "source": [
        "model = NCF (\n",
        "    n_users=data.n_users,\n",
        "    n_items=data.n_items,\n",
        "    model_type=\"NeuMF\",\n",
        "    n_factors=4,\n",
        "    layer_sizes=[16,8,4],\n",
        "    n_epochs=EPOCHS,\n",
        "    batch_size=BATCH_SIZE,\n",
        "    learning_rate=1e-3,\n",
        "    verbose=10,\n",
        "    seed=SEED\n",
        ")"
      ]
    },
    {
      "cell_type": "code",
      "execution_count": null,
      "metadata": {
        "colab": {
          "base_uri": "https://localhost:8080/"
        },
        "id": "OqQu8zKLfZcM",
        "outputId": "e05b3466-b352-4b76-95a8-32e72b3b4c71"
      },
      "outputs": [
        {
          "name": "stderr",
          "output_type": "stream",
          "text": [
            "INFO:recommenders.models.ncf.ncf_singlenode:Epoch 10 [10.59s]: train_loss = 0.307290 \n",
            "INFO:recommenders.models.ncf.ncf_singlenode:Epoch 20 [9.22s]: train_loss = 0.292234 \n",
            "INFO:recommenders.models.ncf.ncf_singlenode:Epoch 30 [9.47s]: train_loss = 0.285934 \n",
            "INFO:recommenders.models.ncf.ncf_singlenode:Epoch 40 [8.61s]: train_loss = 0.280942 \n",
            "INFO:recommenders.models.ncf.ncf_singlenode:Epoch 50 [8.28s]: train_loss = 0.278336 \n"
          ]
        },
        {
          "name": "stdout",
          "output_type": "stream",
          "text": [
            "Took 475.0266 seconds for training.\n"
          ]
        }
      ],
      "source": [
        "with Timer() as train_time:\n",
        "    model.fit(data)\n",
        "\n",
        "print(\"Took {} seconds for training.\".format(train_time))"
      ]
    },
    {
      "cell_type": "code",
      "execution_count": null,
      "metadata": {
        "colab": {
          "base_uri": "https://localhost:8080/"
        },
        "id": "w_YS74rmfeK4",
        "outputId": "841cd803-bcbd-4f28-d864-f8685e5b4ddb"
      },
      "outputs": [
        {
          "name": "stdout",
          "output_type": "stream",
          "text": [
            "Took 12.4673 seconds for prediction.\n"
          ]
        }
      ],
      "source": [
        "with Timer() as test_time:\n",
        "    users, items, preds = [], [], []\n",
        "    item = list(train.itemID.unique())\n",
        "    for user in train.userID.unique():\n",
        "        user = [user] * len(item)\n",
        "        users.extend(user)\n",
        "        items.extend(item)\n",
        "        preds.extend(list(model.predict(user, item, is_list=True)))\n",
        "\n",
        "    all_predictions = pd.DataFrame(data={\"userID\": users, \"itemID\":items, \"prediction\":preds})\n",
        "\n",
        "    merged = pd.merge(train, all_predictions, on=[\"userID\", \"itemID\"], how=\"outer\")\n",
        "    all_predictions = merged[merged.rating.isnull()].drop('rating', axis=1)\n",
        "\n",
        "print(\"Took {} seconds for prediction.\".format(test_time))"
      ]
    },
    {
      "cell_type": "markdown",
      "metadata": {
        "id": "nL_pYSkPj81T"
      },
      "source": [
        "## 4. Evaluate how well NCF performs\n",
        "The ranking metrics are used for evaluation."
      ]
    },
    {
      "cell_type": "code",
      "execution_count": null,
      "metadata": {
        "colab": {
          "base_uri": "https://localhost:8080/"
        },
        "id": "TzsX97Yufk89",
        "outputId": "fb06a6de-e59e-4a68-eb00-ffd4353ec2f5"
      },
      "outputs": [
        {
          "name": "stdout",
          "output_type": "stream",
          "text": [
            "MAP:\t0.031396\n",
            "NDCG:\t0.073275\n",
            "Precision@K:\t0.049085\n",
            "Recall@K:\t0.056756\n"
          ]
        }
      ],
      "source": [
        "eval_map = map_at_k(test, all_predictions, col_prediction='prediction', k=TOP_K)\n",
        "eval_ndcg = ndcg_at_k(test, all_predictions, col_prediction='prediction', k=TOP_K)\n",
        "eval_precision = precision_at_k(test, all_predictions, col_prediction='prediction', k=TOP_K)\n",
        "eval_recall = recall_at_k(test, all_predictions, col_prediction='prediction', k=TOP_K)\n",
        "\n",
        "print(\"MAP:\\t%f\" % eval_map,\n",
        "      \"NDCG:\\t%f\" % eval_ndcg,\n",
        "      \"Precision@K:\\t%f\" % eval_precision,\n",
        "      \"Recall@K:\\t%f\" % eval_recall, sep='\\n')"
      ]
    },
    {
      "cell_type": "code",
      "execution_count": null,
      "metadata": {
        "id": "sdHaSli43ztH"
      },
      "outputs": [],
      "source": [
        "#df_order = pd.read_excel('/content/drive/Othercomputers/THINKPAD-T14/AI/Reommender_System/Week2/Lesson2_From_Course/Rec_sys_data.xlsx', 'order')\n",
        "#df_customer = pd.read_excel('/content/drive/Othercomputers/THINKPAD-T14/AI/Reommender_System/Week2/Lesson2_From_Course/Rec_sys_data.xlsx', 'customer')\n",
        "#df_product = pd.read_excel('/content/drive/Othercomputers/THINKPAD-T14/AI/Reommender_System/Week2/Lesson2_From_Course/Rec_sys_data.xlsx', 'product')\n"
      ]
    },
    {
      "cell_type": "code",
      "execution_count": null,
      "metadata": {
        "id": "v4y1YANnbfMd"
      },
      "outputs": [],
      "source": [
        "df_order = pd.read_excel('Rec_sys_data.xlsx', 'order')\n",
        "df_customer = pd.read_excel('Rec_sys_data.xlsx', 'customer')\n",
        "df_product = pd.read_excel('Rec_sys_data.xlsx', 'product')"
      ]
    },
    {
      "cell_type": "code",
      "execution_count": null,
      "metadata": {
        "colab": {
          "base_uri": "https://localhost:8080/",
          "height": 206
        },
        "id": "hrH92rSu3RCD",
        "outputId": "19f84f1d-3550-4a6e-eeed-43ab91e49094"
      },
      "outputs": [
        {
          "data": {
            "text/html": [
              "<div>\n",
              "<style scoped>\n",
              "    .dataframe tbody tr th:only-of-type {\n",
              "        vertical-align: middle;\n",
              "    }\n",
              "\n",
              "    .dataframe tbody tr th {\n",
              "        vertical-align: top;\n",
              "    }\n",
              "\n",
              "    .dataframe thead th {\n",
              "        text-align: right;\n",
              "    }\n",
              "</style>\n",
              "<table border=\"1\" class=\"dataframe\">\n",
              "  <thead>\n",
              "    <tr style=\"text-align: right;\">\n",
              "      <th></th>\n",
              "      <th>userID</th>\n",
              "      <th>itemID</th>\n",
              "      <th>timestamp</th>\n",
              "      <th>prediction</th>\n",
              "    </tr>\n",
              "  </thead>\n",
              "  <tbody>\n",
              "    <tr>\n",
              "      <th>8943704</th>\n",
              "      <td>17850</td>\n",
              "      <td>22998</td>\n",
              "      <td>NaT</td>\n",
              "      <td>0.986354</td>\n",
              "    </tr>\n",
              "    <tr>\n",
              "      <th>8942245</th>\n",
              "      <td>17850</td>\n",
              "      <td>21232</td>\n",
              "      <td>NaT</td>\n",
              "      <td>0.982246</td>\n",
              "    </tr>\n",
              "    <tr>\n",
              "      <th>8943545</th>\n",
              "      <td>17850</td>\n",
              "      <td>22834</td>\n",
              "      <td>NaT</td>\n",
              "      <td>0.979174</td>\n",
              "    </tr>\n",
              "    <tr>\n",
              "      <th>8943702</th>\n",
              "      <td>17850</td>\n",
              "      <td>22996</td>\n",
              "      <td>NaT</td>\n",
              "      <td>0.958606</td>\n",
              "    </tr>\n",
              "    <tr>\n",
              "      <th>8942293</th>\n",
              "      <td>17850</td>\n",
              "      <td>21314</td>\n",
              "      <td>NaT</td>\n",
              "      <td>0.957805</td>\n",
              "    </tr>\n",
              "    <tr>\n",
              "      <th>8942930</th>\n",
              "      <td>17850</td>\n",
              "      <td>22219</td>\n",
              "      <td>NaT</td>\n",
              "      <td>0.947588</td>\n",
              "    </tr>\n",
              "    <tr>\n",
              "      <th>8944480</th>\n",
              "      <td>17850</td>\n",
              "      <td>84879</td>\n",
              "      <td>NaT</td>\n",
              "      <td>0.926590</td>\n",
              "    </tr>\n",
              "    <tr>\n",
              "      <th>8942201</th>\n",
              "      <td>17850</td>\n",
              "      <td>21169</td>\n",
              "      <td>NaT</td>\n",
              "      <td>0.908606</td>\n",
              "    </tr>\n",
              "    <tr>\n",
              "      <th>8943413</th>\n",
              "      <td>17850</td>\n",
              "      <td>22713</td>\n",
              "      <td>NaT</td>\n",
              "      <td>0.901984</td>\n",
              "    </tr>\n",
              "    <tr>\n",
              "      <th>8942893</th>\n",
              "      <td>17850</td>\n",
              "      <td>22178</td>\n",
              "      <td>NaT</td>\n",
              "      <td>0.897836</td>\n",
              "    </tr>\n",
              "  </tbody>\n",
              "</table>\n",
              "</div>"
            ],
            "text/plain": [
              "         userID  itemID timestamp  prediction\n",
              "8943704   17850   22998       NaT    0.986354\n",
              "8942245   17850   21232       NaT    0.982246\n",
              "8943545   17850   22834       NaT    0.979174\n",
              "8943702   17850   22996       NaT    0.958606\n",
              "8942293   17850   21314       NaT    0.957805\n",
              "8942930   17850   22219       NaT    0.947588\n",
              "8944480   17850   84879       NaT    0.926590\n",
              "8942201   17850   21169       NaT    0.908606\n",
              "8943413   17850   22713       NaT    0.901984\n",
              "8942893   17850   22178       NaT    0.897836"
            ]
          },
          "execution_count": 30,
          "metadata": {},
          "output_type": "execute_result"
        }
      ],
      "source": [
        "all_predictions[all_predictions['userID']==17850].nlargest(10,'prediction')"
      ]
    },
    {
      "cell_type": "code",
      "execution_count": null,
      "metadata": {
        "id": "GE67RjSC75qb"
      },
      "outputs": [],
      "source": [
        "all_predictions = all_predictions[['userID','itemID','prediction']]"
      ]
    },
    {
      "cell_type": "code",
      "execution_count": null,
      "metadata": {
        "id": "agUv0QI08fpm"
      },
      "outputs": [],
      "source": [
        "all_predictions = all_predictions.rename(columns={\n",
        "\n",
        "    \"userID\":'CustomerID',\"itemID\":'StockCode',\"rating\":'Quantity','prediction':'probability'\n",
        "\n",
        "})"
      ]
    },
    {
      "cell_type": "code",
      "execution_count": null,
      "metadata": {
        "id": "J91Xf9WJ47ZC"
      },
      "outputs": [],
      "source": [
        "def recommend_product(customer_id):\n",
        "\n",
        "  print(\" \\n---------- Top 5 Bought StockCodes -----------\\n\")\n",
        "\n",
        "\n",
        "  print(df_order[df_order['CustomerID']==customer_id][['CustomerID','StockCode','Quantity']].nlargest(5,'Quantity'))\n",
        "\n",
        "  top_5_bought = df_order[df_order['CustomerID']==customer_id][['CustomerID','StockCode','Quantity']].nlargest(5,'Quantity')\n",
        "\n",
        "  print('\\n-------Product Name of bought StockCodes ------\\n')\n",
        "\n",
        "  print(df_product[df_product.StockCode.isin(top_5_bought.StockCode)]['Product Name'])\n",
        "\n",
        "\n",
        "  print(\"\\n --------- Top 5 Recommendations ------------ \\n\")\n",
        "\n",
        "  print(all_predictions[all_predictions['CustomerID']==customer_id].nlargest(5,'probability'))\n",
        "\n",
        "  recommend = all_predictions[all_predictions['CustomerID']==customer_id].nlargest(5,'probability')\n",
        "\n",
        "  print('\\n-------Product Name of Recommendations ------\\n')\n",
        "\n",
        "  print(df_product[df_product.StockCode.isin(recommend.StockCode)]['Product Name'])\n"
      ]
    },
    {
      "cell_type": "markdown",
      "metadata": {
        "id": "zH8aPyEv_Vsa"
      },
      "source": [
        "## 5. Recommendation's"
      ]
    },
    {
      "cell_type": "code",
      "execution_count": null,
      "metadata": {
        "id": "t9s3dfTzbfMe"
      },
      "outputs": [],
      "source": [
        "def recommend_product(customer_id):\n",
        "    print(\" \\n---------- Top 5 Bought StockCodes -----------\\n\")\n",
        "\n",
        "    print(df_order[df_order['CustomerID'] == customer_id][['CustomerID', 'StockCode', 'Quantity']].nlargest(10, 'Quantity'))\n",
        "\n",
        "    top_5_bought = df_order[df_order['CustomerID'] == customer_id][['CustomerID', 'StockCode', 'Quantity']].nlargest(10, 'Quantity')\n",
        "\n",
        "    print('\\n-------Product Name of bought StockCodes ------\\n')\n",
        "    print(df_product[df_product.StockCode.isin(top_5_bought.StockCode)]['Product Name'])\n",
        "\n",
        "    print(\"\\n --------- Top 5 Recommendations ------------ \\n\")\n",
        "    print(all_predictions[all_predictions['CustomerID'] == customer_id].nlargest(10, 'probability'))\n",
        "\n",
        "    recommend = all_predictions[all_predictions['CustomerID'] == customer_id].nlargest(10, 'probability')\n",
        "\n",
        "    print('\\n-------Product Name of Recommendations ------\\n')\n",
        "    print(df_product[df_product.StockCode.isin(recommend.StockCode)]['Product Name'])\n",
        "\n",
        "    # Print evaluation metrics for the user\n",
        "    print(\"\\n---------- Evaluation Metrics -----------\\n\")\n",
        "    print(\"MAP:\\t%f\" % eval_map_user,\n",
        "          \"NDCG:\\t%f\" % eval_ndcg_user,\n",
        "          \"Precision@K:\\t%f\" % eval_precision_user,\n",
        "          \"Recall@K:\\t%f\" % eval_recall_user, sep='\\n')\n"
      ]
    },
    {
      "cell_type": "code",
      "execution_count": null,
      "metadata": {
        "colab": {
          "base_uri": "https://localhost:8080/"
        },
        "id": "c8gBM4Cr7P_3",
        "outputId": "c7ea0de0-c050-43ee-ac9c-50fafbff3d5c"
      },
      "outputs": [
        {
          "name": "stdout",
          "output_type": "stream",
          "text": [
            " \n",
            "---------- Top 5 Bought StockCodes -----------\n",
            "\n",
            "        CustomerID StockCode  Quantity\n",
            "234414       13137     84077        48\n",
            "234443       13137     23321        13\n",
            "50797        13137     21985        12\n",
            "234404       13137     22296        12\n",
            "234418       13137     22297        12\n",
            "\n",
            "-------Product Name of bought StockCodes ------\n",
            "\n",
            "70      MightySkins Skin Decal Wrap Compatible with Li...\n",
            "490           Window Tint Film Mitsubishi (all doors) DIY\n",
            "694     Harriton Men's Paradise Short-Sleeve Performan...\n",
            "1065    MightySkins Skin For Samsung Galaxy J3 (2016),...\n",
            "1339    MightySkins Skin Decal Wrap Compatible with Le...\n",
            "Name: Product Name, dtype: object\n",
            "\n",
            " --------- Top 5 Recommendations ------------ \n",
            "\n",
            "         CustomerID  StockCode  probability\n",
            "1354297       13137      22383     0.980340\n",
            "1355666       13137      84991     0.920698\n",
            "1353348       13137      21094     0.912518\n",
            "1353343       13137      21086     0.900611\n",
            "1353653       13137      21559     0.889826\n",
            "\n",
            "-------Product Name of Recommendations ------\n",
            "\n",
            "33           Rosalind Wheeler Wall Mounted Bulletin Board\n",
            "68      Boss (hub) Boss 0551 Eyeglasses 0INX 58 Black ...\n",
            "155               Window Tint Film Chevy (back doors) DIY\n",
            "1012    Pterosaur Wall Decal - dinosaur wall decal, st...\n",
            "1163    New Way 1120 - Crewneck Your Job Could Be Wors...\n",
            "Name: Product Name, dtype: object\n"
          ]
        }
      ],
      "source": [
        "recommend_product(13137)"
      ]
    },
    {
      "cell_type": "code",
      "execution_count": null,
      "metadata": {
        "colab": {
          "base_uri": "https://localhost:8080/"
        },
        "id": "8WKR_H9Y9weE",
        "outputId": "b76809cb-1555-41c2-916f-ee16c00bb1a3"
      },
      "outputs": [
        {
          "name": "stdout",
          "output_type": "stream",
          "text": [
            " \n",
            "---------- Top 5 Bought StockCodes -----------\n",
            "\n",
            "        CustomerID StockCode  Quantity\n",
            "272296       15127     23263        48\n",
            "272287       15127     23354        24\n",
            "272288       15127     22813        24\n",
            "272289       15127     23096        24\n",
            "272285       15127     21181        12\n",
            "\n",
            "-------Product Name of bought StockCodes ------\n",
            "\n",
            "13                billyboards Porcelain School Chalkboard\n",
            "374     MightySkins Protective Vinyl Skin Decal for Po...\n",
            "923     Zoan Synchrony Duo Sport Electric Snow Helmet ...\n",
            "952     MightySkins Skin Decal Wrap Compatible with Sm...\n",
            "1576    EMPIRE KLIX Klutch Designer Wallet Case for LG G2\n",
            "Name: Product Name, dtype: object\n",
            "\n",
            " --------- Top 5 Recommendations ------------ \n",
            "\n",
            "         CustomerID  StockCode  probability\n",
            "4600086       15127      23356     0.800556\n",
            "4598934       15127      22113     0.798470\n",
            "4598730       15127      21818     0.795763\n",
            "4598408       15127      21314     0.786580\n",
            "4598794       15127      21908     0.785450\n",
            "\n",
            "-------Product Name of Recommendations ------\n",
            "\n",
            "601     MightySkins Protective Vinyl Skin Decal for YE...\n",
            "744     Ultra Sleek And Spacious Pearl White Lacquer 1...\n",
            "853     Handcrafted Ercolano Music Box Featuring \"Lunc...\n",
            "945     MightySkins Skin Decal Wrap Compatible with Li...\n",
            "1713    Ebe Prescription Glasses Mens Womens Burgundy ...\n",
            "Name: Product Name, dtype: object\n"
          ]
        }
      ],
      "source": [
        "recommend_product(15127)\n"
      ]
    },
    {
      "cell_type": "markdown",
      "metadata": {
        "id": "7vhoTZHrOSMj"
      },
      "source": []
    },
    {
      "cell_type": "code",
      "execution_count": null,
      "metadata": {
        "colab": {
          "base_uri": "https://localhost:8080/"
        },
        "id": "kttUo3TSnwP1",
        "outputId": "4b175d8c-78aa-49a8-e4a2-d0b3811fba89"
      },
      "outputs": [
        {
          "name": "stdout",
          "output_type": "stream",
          "text": [
            " \n",
            "---------- Top 5 Bought StockCodes -----------\n",
            "\n",
            "        CustomerID StockCode  Quantity\n",
            "168005       15187     84945        72\n",
            "230220       15187     22128        60\n",
            "265118       15187     84945        48\n",
            "127141       15187     22197        36\n",
            "230218       15187     23310        36\n",
            "\n",
            "-------Product Name of bought StockCodes ------\n",
            "\n",
            "236     MightySkins Skin Decal Wrap Compatible with HP...\n",
            "559     Extreme Networks OUTDOOR IP66 802.3AT GB ETHRT...\n",
            "1817                     Women's Rialto Adora Ballet Flat\n",
            "1821    Clear 18 Note Acrylic Box Musical Paperweight ...\n",
            "Name: Product Name, dtype: object\n",
            "\n",
            " --------- Top 5 Recommendations ------------ \n",
            "\n",
            "         CustomerID  StockCode  probability\n",
            "4702533       15187      22333     0.935347\n",
            "4703203       15187      23041     0.934376\n",
            "4701767       15187      21240     0.927637\n",
            "4703424       15187      23286     0.918538\n",
            "4701765       15187      21238     0.918083\n",
            "\n",
            "-------Product Name of Recommendations ------\n",
            "\n",
            "1       Eye Buy Express Prescription Glasses Mens Wome...\n",
            "1219    Abstract Heart Plant Wall Decal - Wall Sticker...\n",
            "1476                    Unisex F**k It Short Sleeve Shirt\n",
            "1690              Ply Gem Raised Panel Shutter (Set of 2)\n",
            "1948    MightySkins Skin Decal Wrap Compatible with Ri...\n",
            "Name: Product Name, dtype: object\n"
          ]
        }
      ],
      "source": [
        "recommend_product(15187)"
      ]
    },
    {
      "cell_type": "markdown",
      "metadata": {
        "id": "UZJ4sBX6oIBP"
      },
      "source": [
        "# **Model2 on NueMF**"
      ]
    },
    {
      "cell_type": "code",
      "execution_count": null,
      "metadata": {
        "colab": {
          "base_uri": "https://localhost:8080/"
        },
        "id": "dV_IGJ4aoHBB",
        "outputId": "c1224e68-e01f-41b2-f076-c122b4f71e82"
      },
      "outputs": [
        {
          "name": "stderr",
          "output_type": "stream",
          "text": [
            "C:\\Users\\Faisal\\AppData\\Local\\Programs\\Python\\Python312\\Lib\\site-packages\\tensorflow\\python\\keras\\engine\\base_layer_v1.py:1694: UserWarning: `layer.apply` is deprecated and will be removed in a future version. Please use `layer.__call__` method instead.\n",
            "  warnings.warn('`layer.apply` is deprecated and '\n"
          ]
        }
      ],
      "source": [
        "model2 = NCF (\n",
        "    n_users=data.n_users,\n",
        "    n_items=data.n_items,\n",
        "    model_type=\"NeuMF\",\n",
        "    n_factors=16,\n",
        "    layer_sizes=[32,16,8],\n",
        "    n_epochs=EPOCHS,\n",
        "    batch_size=BATCH_SIZE,\n",
        "    learning_rate=1e-3,\n",
        "    verbose=10,\n",
        "    seed=SEED\n",
        ")"
      ]
    },
    {
      "cell_type": "code",
      "execution_count": null,
      "metadata": {
        "colab": {
          "base_uri": "https://localhost:8080/"
        },
        "id": "YR2YqDunoWQz",
        "outputId": "c37ae508-d6ed-4b63-bb81-9c6f975fe70d"
      },
      "outputs": [
        {
          "name": "stderr",
          "output_type": "stream",
          "text": [
            "INFO:recommenders.models.ncf.ncf_singlenode:Epoch 10 [8.47s]: train_loss = 0.234096 \n",
            "INFO:recommenders.models.ncf.ncf_singlenode:Epoch 20 [8.81s]: train_loss = 0.208367 \n",
            "INFO:recommenders.models.ncf.ncf_singlenode:Epoch 30 [9.18s]: train_loss = 0.193167 \n",
            "INFO:recommenders.models.ncf.ncf_singlenode:Epoch 40 [8.76s]: train_loss = 0.185109 \n",
            "INFO:recommenders.models.ncf.ncf_singlenode:Epoch 50 [9.10s]: train_loss = 0.178334 \n"
          ]
        },
        {
          "name": "stdout",
          "output_type": "stream",
          "text": [
            "Took 468.9649 seconds for training.\n"
          ]
        }
      ],
      "source": [
        "with Timer() as train_time:\n",
        "    model2.fit(data)\n",
        "\n",
        "print(\"Took {} seconds for training.\".format(train_time))"
      ]
    },
    {
      "cell_type": "code",
      "execution_count": null,
      "metadata": {
        "colab": {
          "base_uri": "https://localhost:8080/"
        },
        "id": "aRPyO7LDtvxA",
        "outputId": "b4a645ae-f580-406e-b5ff-64a7f901a526"
      },
      "outputs": [
        {
          "name": "stdout",
          "output_type": "stream",
          "text": [
            "Took 12.3786 seconds for prediction.\n"
          ]
        }
      ],
      "source": [
        "with Timer() as test_time:\n",
        "    users, items, preds = [], [], []\n",
        "    item = list(train.itemID.unique())\n",
        "    for user in train.userID.unique():\n",
        "        user = [user] * len(item)\n",
        "        users.extend(user)\n",
        "        items.extend(item)\n",
        "        preds.extend(list(model2.predict(user, item, is_list=True)))\n",
        "\n",
        "    all_predictions = pd.DataFrame(data={\"userID\": users, \"itemID\":items, \"prediction\":preds})\n",
        "\n",
        "    merged = pd.merge(train, all_predictions, on=[\"userID\", \"itemID\"], how=\"outer\")\n",
        "    all_predictions = merged[merged.rating.isnull()].drop('rating', axis=1)\n",
        "\n",
        "print(\"Took {} seconds for prediction.\".format(test_time))"
      ]
    },
    {
      "cell_type": "code",
      "execution_count": null,
      "metadata": {
        "colab": {
          "base_uri": "https://localhost:8080/"
        },
        "id": "V5_rC1gbuALF",
        "outputId": "8c7d9c4f-91aa-4279-918a-82b5219799d3"
      },
      "outputs": [
        {
          "name": "stdout",
          "output_type": "stream",
          "text": [
            "MAP:\t0.044629\n",
            "NDCG:\t0.091884\n",
            "Precision@K:\t0.057776\n",
            "Recall@K:\t0.080322\n"
          ]
        }
      ],
      "source": [
        "eval_map = map_at_k(test, all_predictions, col_prediction='prediction', k=TOP_K)\n",
        "eval_ndcg = ndcg_at_k(test, all_predictions, col_prediction='prediction', k=TOP_K)\n",
        "eval_precision = precision_at_k(test, all_predictions, col_prediction='prediction', k=TOP_K)\n",
        "eval_recall = recall_at_k(test, all_predictions, col_prediction='prediction', k=TOP_K)\n",
        "\n",
        "print(\"MAP:\\t%f\" % eval_map,\n",
        "      \"NDCG:\\t%f\" % eval_ndcg,\n",
        "      \"Precision@K:\\t%f\" % eval_precision,\n",
        "      \"Recall@K:\\t%f\" % eval_recall, sep='\\n')"
      ]
    },
    {
      "cell_type": "code",
      "execution_count": null,
      "metadata": {
        "colab": {
          "base_uri": "https://localhost:8080/",
          "height": 206
        },
        "collapsed": true,
        "id": "D6wuWmu3vXPY",
        "jupyter": {
          "outputs_hidden": true
        },
        "outputId": "f395cb78-a60e-4e96-e779-ea0c1a69ab52"
      },
      "outputs": [
        {
          "data": {
            "text/html": [
              "<div>\n",
              "<style scoped>\n",
              "    .dataframe tbody tr th:only-of-type {\n",
              "        vertical-align: middle;\n",
              "    }\n",
              "\n",
              "    .dataframe tbody tr th {\n",
              "        vertical-align: top;\n",
              "    }\n",
              "\n",
              "    .dataframe thead th {\n",
              "        text-align: right;\n",
              "    }\n",
              "</style>\n",
              "<table border=\"1\" class=\"dataframe\">\n",
              "  <thead>\n",
              "    <tr style=\"text-align: right;\">\n",
              "      <th></th>\n",
              "      <th>userID</th>\n",
              "      <th>itemID</th>\n",
              "      <th>timestamp</th>\n",
              "      <th>prediction</th>\n",
              "    </tr>\n",
              "  </thead>\n",
              "  <tbody>\n",
              "    <tr>\n",
              "      <th>1918</th>\n",
              "      <td>12346</td>\n",
              "      <td>23167</td>\n",
              "      <td>NaT</td>\n",
              "      <td>0.999456</td>\n",
              "    </tr>\n",
              "    <tr>\n",
              "      <th>1777</th>\n",
              "      <td>12346</td>\n",
              "      <td>23014</td>\n",
              "      <td>NaT</td>\n",
              "      <td>0.988943</td>\n",
              "    </tr>\n",
              "    <tr>\n",
              "      <th>1921</th>\n",
              "      <td>12346</td>\n",
              "      <td>23170</td>\n",
              "      <td>NaT</td>\n",
              "      <td>0.982023</td>\n",
              "    </tr>\n",
              "    <tr>\n",
              "      <th>1925</th>\n",
              "      <td>12346</td>\n",
              "      <td>23174</td>\n",
              "      <td>NaT</td>\n",
              "      <td>0.970437</td>\n",
              "    </tr>\n",
              "    <tr>\n",
              "      <th>1926</th>\n",
              "      <td>12346</td>\n",
              "      <td>23175</td>\n",
              "      <td>NaT</td>\n",
              "      <td>0.944468</td>\n",
              "    </tr>\n",
              "  </tbody>\n",
              "</table>\n",
              "</div>"
            ],
            "text/plain": [
              "      userID  itemID timestamp  prediction\n",
              "1918   12346   23167       NaT    0.999456\n",
              "1777   12346   23014       NaT    0.988943\n",
              "1921   12346   23170       NaT    0.982023\n",
              "1925   12346   23174       NaT    0.970437\n",
              "1926   12346   23175       NaT    0.944468"
            ]
          },
          "execution_count": 56,
          "metadata": {},
          "output_type": "execute_result"
        }
      ],
      "source": [
        "all_predictions[all_predictions['userID']==12346].nlargest(5,'prediction')"
      ]
    },
    {
      "cell_type": "code",
      "execution_count": null,
      "metadata": {
        "id": "PR_WS686vzzq"
      },
      "outputs": [],
      "source": [
        "all_predictions = all_predictions.rename(columns={\n",
        "\n",
        "    \"userID\":'CustomerID',\"itemID\":'StockCode',\"rating\":'Quantity','prediction':'probability'\n",
        "\n",
        "})"
      ]
    },
    {
      "cell_type": "code",
      "execution_count": null,
      "metadata": {
        "id": "3DuHRIsSv5ae"
      },
      "outputs": [],
      "source": [
        "def recommend_product(customer_id):\n",
        "\n",
        "  print(\" \\n---------- Top 5 Bought StockCodes -----------\\n\")\n",
        "\n",
        "\n",
        "  print(df_order[df_order['CustomerID']==customer_id][['CustomerID','StockCode','Quantity']].nlargest(5,'Quantity'))\n",
        "\n",
        "  top_5_bought = df_order[df_order['CustomerID']==customer_id][['CustomerID','StockCode','Quantity']].nlargest(5,'Quantity')\n",
        "\n",
        "  print('\\n-------Product Name of bought StockCodes ------\\n')\n",
        "\n",
        "  print(df_product[df_product.StockCode.isin(top_5_bought.StockCode)]['Product Name'])\n",
        "\n",
        "\n",
        "  print(\"\\n --------- Top 5 Recommendations ------------ \\n\")\n",
        "\n",
        "  print(all_predictions[all_predictions['CustomerID']==customer_id].nlargest(5,'probability'))\n",
        "\n",
        "  recommend = all_predictions[all_predictions['CustomerID']==customer_id].nlargest(5,'probability')\n",
        "\n",
        "  print('\\n-------Product Name of Recommendations ------\\n')\n",
        "\n",
        "  print(df_product[df_product.StockCode.isin(recommend.StockCode)]['Product Name'])\n"
      ]
    },
    {
      "cell_type": "markdown",
      "metadata": {
        "id": "2ham0cFiv-gX"
      },
      "source": []
    },
    {
      "cell_type": "markdown",
      "metadata": {
        "id": "mAKWEx5Iv-nt"
      },
      "source": [
        "### 5. Recommendation's"
      ]
    },
    {
      "cell_type": "code",
      "execution_count": null,
      "metadata": {
        "colab": {
          "base_uri": "https://localhost:8080/"
        },
        "id": "8-G_wOqAv-nt",
        "outputId": "d84a37f1-daac-453c-9c63-8c728867818e"
      },
      "outputs": [
        {
          "name": "stdout",
          "output_type": "stream",
          "text": [
            " \n",
            "---------- Top 5 Bought StockCodes -----------\n",
            "\n",
            "      CustomerID StockCode  Quantity\n",
            "285        17850    82494L        12\n",
            "2629       17850    85123A        12\n",
            "2634       17850     71053        12\n",
            "2978       17850     71053        12\n",
            "2983       17850    85123A        12\n",
            "\n",
            "-------Product Name of bought StockCodes ------\n",
            "\n",
            "135    Mediven Sheer and Soft 15-20 mmHg Thigh w/ Lac...\n",
            "179           AARCO Enclosed Wall Mounted Bulletin Board\n",
            "967    Awkward Styles Shamrock Flag St. Patrick's Day...\n",
            "Name: Product Name, dtype: object\n",
            "\n",
            " --------- Top 5 Recommendations ------------ \n",
            "\n",
            "         CustomerID  StockCode timestamp  probability\n",
            "8943000       17850      22300       NaT     0.996899\n",
            "8943545       17850      22834       NaT     0.994837\n",
            "8941892       17850      17003       NaT     0.988720\n",
            "8942655       17850      21870       NaT     0.985449\n",
            "8944559       17850      85175       NaT     0.977981\n",
            "\n",
            "-------Product Name of Recommendations ------\n",
            "\n",
            "550     Union 3\" Female Ports Stainless Steel Pipe Fit...\n",
            "785     Awkward Styles Unisex USA Flag Pitbull Graphic...\n",
            "1061    MightySkins Skin Decal Wrap Compatible with Ra...\n",
            "1508    1042 - Unisex Long-Sleeve T-Shirt Free Hugs An...\n",
            "1603    Eye Buy Express Kids Childrens Reading Glasses...\n",
            "Name: Product Name, dtype: object\n"
          ]
        }
      ],
      "source": [
        "recommend_product(17850)"
      ]
    },
    {
      "cell_type": "code",
      "execution_count": null,
      "metadata": {
        "colab": {
          "base_uri": "https://localhost:8080/"
        },
        "id": "_JebXctav-nt",
        "outputId": "279fcd66-f9fd-47aa-d71d-19eed07a0862"
      },
      "outputs": [
        {
          "name": "stdout",
          "output_type": "stream",
          "text": [
            " \n",
            "---------- Top 5 Bought StockCodes -----------\n",
            "\n",
            "        CustomerID StockCode  Quantity\n",
            "272296       15127     23263        48\n",
            "272287       15127     23354        24\n",
            "272288       15127     22813        24\n",
            "272289       15127     23096        24\n",
            "272285       15127     21181        12\n",
            "\n",
            "-------Product Name of bought StockCodes ------\n",
            "\n",
            "13                billyboards Porcelain School Chalkboard\n",
            "374     MightySkins Protective Vinyl Skin Decal for Po...\n",
            "923     Zoan Synchrony Duo Sport Electric Snow Helmet ...\n",
            "952     MightySkins Skin Decal Wrap Compatible with Sm...\n",
            "1576    EMPIRE KLIX Klutch Designer Wallet Case for LG G2\n",
            "Name: Product Name, dtype: object\n",
            "\n",
            " --------- Top 5 Recommendations ------------ \n",
            "\n",
            "         CustomerID  StockCode timestamp  probability\n",
            "4599505       15127      22737       NaT     0.999916\n",
            "4599577       15127      22812       NaT     0.999896\n",
            "4599574       15127      22809       NaT     0.999256\n",
            "4599628       15127      22866       NaT     0.999122\n",
            "4600104       15127      23378       NaT     0.995908\n",
            "\n",
            "-------Product Name of Recommendations ------\n",
            "\n",
            "67      Awkward Styles Sugar Skull Shirts for Men Joll...\n",
            "567     MightySkins Skin Decal Wrap Compatible with Li...\n",
            "975     MightySkins Skin Decal Wrap Compatible with Ap...\n",
            "1062    Ebe Prescription Glasses Mens Womens Burgundy ...\n",
            "2247    MightySkins Skin Decal Wrap Compatible with Li...\n",
            "Name: Product Name, dtype: object\n"
          ]
        }
      ],
      "source": [
        "recommend_product(15127)\n"
      ]
    },
    {
      "cell_type": "markdown",
      "metadata": {
        "id": "Bk46af5wv-nt"
      },
      "source": []
    },
    {
      "cell_type": "code",
      "execution_count": null,
      "metadata": {
        "colab": {
          "base_uri": "https://localhost:8080/"
        },
        "id": "UgQhz5x0v-nt",
        "outputId": "f65ebd76-31cb-4c7c-a2ba-f702445478bc"
      },
      "outputs": [
        {
          "name": "stdout",
          "output_type": "stream",
          "text": [
            " \n",
            "---------- Top 5 Bought StockCodes -----------\n",
            "\n",
            "        CustomerID StockCode  Quantity\n",
            "168005       15187     84945        72\n",
            "230220       15187     22128        60\n",
            "265118       15187     84945        48\n",
            "127141       15187     22197        36\n",
            "230218       15187     23310        36\n",
            "\n",
            "-------Product Name of bought StockCodes ------\n",
            "\n",
            "236     MightySkins Skin Decal Wrap Compatible with HP...\n",
            "559     Extreme Networks OUTDOOR IP66 802.3AT GB ETHRT...\n",
            "1817                     Women's Rialto Adora Ballet Flat\n",
            "1821    Clear 18 Note Acrylic Box Musical Paperweight ...\n",
            "Name: Product Name, dtype: object\n",
            "\n",
            " --------- Top 5 Recommendations ------------ \n",
            "\n",
            "         CustomerID  StockCode timestamp  probability\n",
            "4701733       15187      21194       NaT     0.992162\n",
            "4703203       15187      23041       NaT     0.985124\n",
            "4701734       15187      21195       NaT     0.982968\n",
            "4703965       15187      85189       NaT     0.961094\n",
            "4703273       15187      23122       NaT     0.949230\n",
            "\n",
            "-------Product Name of Recommendations ------\n",
            "\n",
            "1045    MightySkins Skin Decal Wrap Compatible with Go...\n",
            "1082    MightySkins Skin Decal Wrap Compatible with Le...\n",
            "1942    Ergotron - 97-586 - Ergotron TeachWell 97-586 ...\n",
            "1948    MightySkins Skin Decal Wrap Compatible with Ri...\n",
            "3213    Handcrafted Ercolano Music Box Featuring \"Lunc...\n",
            "Name: Product Name, dtype: object\n"
          ]
        }
      ],
      "source": [
        "recommend_product(15187)"
      ]
    },
    {
      "cell_type": "code",
      "execution_count": null,
      "metadata": {
        "id": "C2EcMHwCwWas"
      },
      "outputs": [],
      "source": [
        "Model2"
      ]
    },
    {
      "cell_type": "markdown",
      "metadata": {
        "id": "qvYplIUbwbim"
      },
      "source": [
        "# **Model3 on GMF**"
      ]
    },
    {
      "cell_type": "code",
      "execution_count": null,
      "metadata": {
        "colab": {
          "base_uri": "https://localhost:8080/"
        },
        "id": "ax-FuxLVwbim",
        "outputId": "0870227a-11a5-445a-cc4a-085efcf35973"
      },
      "outputs": [
        {
          "name": "stderr",
          "output_type": "stream",
          "text": [
            "C:\\Users\\Faisal\\AppData\\Local\\Programs\\Python\\Python312\\Lib\\site-packages\\tensorflow\\python\\keras\\engine\\base_layer_v1.py:1694: UserWarning: `layer.apply` is deprecated and will be removed in a future version. Please use `layer.__call__` method instead.\n",
            "  warnings.warn('`layer.apply` is deprecated and '\n"
          ]
        }
      ],
      "source": [
        "model3 = NCF (\n",
        "    n_users=data.n_users,\n",
        "    n_items=data.n_items,\n",
        "    model_type=\"GMF\",\n",
        "    n_factors=16,\n",
        "    layer_sizes=[32,16,8],\n",
        "    n_epochs=EPOCHS,\n",
        "    batch_size=BATCH_SIZE,\n",
        "    learning_rate=1e-3,\n",
        "    verbose=10,\n",
        "    seed=SEED\n",
        ")"
      ]
    },
    {
      "cell_type": "code",
      "execution_count": null,
      "metadata": {
        "colab": {
          "base_uri": "https://localhost:8080/"
        },
        "id": "-cUfVY0Lwbin",
        "outputId": "79bc19e5-927a-4222-b319-462b5f6220a1"
      },
      "outputs": [
        {
          "name": "stderr",
          "output_type": "stream",
          "text": [
            "INFO:recommenders.models.ncf.ncf_singlenode:Epoch 10 [7.74s]: train_loss = 0.268664 \n",
            "INFO:recommenders.models.ncf.ncf_singlenode:Epoch 20 [8.62s]: train_loss = 0.247704 \n",
            "INFO:recommenders.models.ncf.ncf_singlenode:Epoch 30 [8.30s]: train_loss = 0.240922 \n",
            "INFO:recommenders.models.ncf.ncf_singlenode:Epoch 40 [7.88s]: train_loss = 0.237979 \n",
            "INFO:recommenders.models.ncf.ncf_singlenode:Epoch 50 [8.52s]: train_loss = 0.236087 \n"
          ]
        },
        {
          "name": "stdout",
          "output_type": "stream",
          "text": [
            "Took 416.8518 seconds for training.\n"
          ]
        }
      ],
      "source": [
        "with Timer() as train_time:\n",
        "    model3.fit(data)\n",
        "\n",
        "print(\"Took {} seconds for training.\".format(train_time))"
      ]
    },
    {
      "cell_type": "code",
      "execution_count": null,
      "metadata": {
        "colab": {
          "base_uri": "https://localhost:8080/"
        },
        "id": "1N9Pnj-hwbin",
        "outputId": "bd82e2c0-30a8-481f-c358-14090400358a"
      },
      "outputs": [
        {
          "name": "stdout",
          "output_type": "stream",
          "text": [
            "Took 11.9449 seconds for prediction.\n"
          ]
        }
      ],
      "source": [
        "with Timer() as test_time:\n",
        "    users, items, preds = [], [], []\n",
        "    item = list(train.itemID.unique())\n",
        "    for user in train.userID.unique():\n",
        "        user = [user] * len(item)\n",
        "        users.extend(user)\n",
        "        items.extend(item)\n",
        "        preds.extend(list(model3.predict(user, item, is_list=True)))\n",
        "\n",
        "    all_predictions = pd.DataFrame(data={\"userID\": users, \"itemID\":items, \"prediction\":preds})\n",
        "\n",
        "    merged = pd.merge(train, all_predictions, on=[\"userID\", \"itemID\"], how=\"outer\")\n",
        "    all_predictions = merged[merged.rating.isnull()].drop('rating', axis=1)\n",
        "\n",
        "print(\"Took {} seconds for prediction.\".format(test_time))"
      ]
    },
    {
      "cell_type": "code",
      "execution_count": null,
      "metadata": {
        "colab": {
          "base_uri": "https://localhost:8080/"
        },
        "id": "NXJ-adwTwbin",
        "outputId": "f726b9c1-4c91-47a9-fd6f-84a643e6cbaf"
      },
      "outputs": [
        {
          "name": "stdout",
          "output_type": "stream",
          "text": [
            "MAP:\t0.047148\n",
            "NDCG:\t0.097896\n",
            "Precision@K:\t0.062007\n",
            "Recall@K:\t0.080752\n"
          ]
        }
      ],
      "source": [
        "eval_map = map_at_k(test, all_predictions, col_prediction='prediction', k=TOP_K)\n",
        "eval_ndcg = ndcg_at_k(test, all_predictions, col_prediction='prediction', k=TOP_K)\n",
        "eval_precision = precision_at_k(test, all_predictions, col_prediction='prediction', k=TOP_K)\n",
        "eval_recall = recall_at_k(test, all_predictions, col_prediction='prediction', k=TOP_K)\n",
        "\n",
        "print(\"MAP:\\t%f\" % eval_map,\n",
        "      \"NDCG:\\t%f\" % eval_ndcg,\n",
        "      \"Precision@K:\\t%f\" % eval_precision,\n",
        "      \"Recall@K:\\t%f\" % eval_recall, sep='\\n')"
      ]
    },
    {
      "cell_type": "code",
      "execution_count": null,
      "metadata": {
        "colab": {
          "base_uri": "https://localhost:8080/"
        },
        "id": "uwGfJzJvwbin",
        "outputId": "243f0f12-310f-4519-a8b8-379025b044fe"
      },
      "outputs": [
        {
          "data": {
            "text/html": [
              "<div>\n",
              "<style scoped>\n",
              "    .dataframe tbody tr th:only-of-type {\n",
              "        vertical-align: middle;\n",
              "    }\n",
              "\n",
              "    .dataframe tbody tr th {\n",
              "        vertical-align: top;\n",
              "    }\n",
              "\n",
              "    .dataframe thead th {\n",
              "        text-align: right;\n",
              "    }\n",
              "</style>\n",
              "<table border=\"1\" class=\"dataframe\">\n",
              "  <thead>\n",
              "    <tr style=\"text-align: right;\">\n",
              "      <th></th>\n",
              "      <th>userID</th>\n",
              "      <th>itemID</th>\n",
              "      <th>timestamp</th>\n",
              "      <th>prediction</th>\n",
              "    </tr>\n",
              "  </thead>\n",
              "  <tbody>\n",
              "    <tr>\n",
              "      <th>8943151</th>\n",
              "      <td>17850</td>\n",
              "      <td>22461</td>\n",
              "      <td>NaT</td>\n",
              "      <td>0.999219</td>\n",
              "    </tr>\n",
              "    <tr>\n",
              "      <th>8943545</th>\n",
              "      <td>17850</td>\n",
              "      <td>22834</td>\n",
              "      <td>NaT</td>\n",
              "      <td>0.998809</td>\n",
              "    </tr>\n",
              "    <tr>\n",
              "      <th>8942184</th>\n",
              "      <td>17850</td>\n",
              "      <td>21137</td>\n",
              "      <td>NaT</td>\n",
              "      <td>0.994908</td>\n",
              "    </tr>\n",
              "    <tr>\n",
              "      <th>8942769</th>\n",
              "      <td>17850</td>\n",
              "      <td>22041</td>\n",
              "      <td>NaT</td>\n",
              "      <td>0.993368</td>\n",
              "    </tr>\n",
              "    <tr>\n",
              "      <th>8943963</th>\n",
              "      <td>17850</td>\n",
              "      <td>23284</td>\n",
              "      <td>NaT</td>\n",
              "      <td>0.946858</td>\n",
              "    </tr>\n",
              "  </tbody>\n",
              "</table>\n",
              "</div>"
            ],
            "text/plain": [
              "         userID  itemID timestamp  prediction\n",
              "8943151   17850   22461       NaT    0.999219\n",
              "8943545   17850   22834       NaT    0.998809\n",
              "8942184   17850   21137       NaT    0.994908\n",
              "8942769   17850   22041       NaT    0.993368\n",
              "8943963   17850   23284       NaT    0.946858"
            ]
          },
          "execution_count": 68,
          "metadata": {},
          "output_type": "execute_result"
        }
      ],
      "source": [
        "all_predictions[all_predictions['userID']==17850].nlargest(5,'prediction')"
      ]
    },
    {
      "cell_type": "code",
      "execution_count": null,
      "metadata": {
        "id": "faVTsZySwbin"
      },
      "outputs": [],
      "source": [
        "all_predictions = all_predictions.rename(columns={\n",
        "\n",
        "    \"userID\":'CustomerID',\"itemID\":'StockCode',\"rating\":'Quantity','prediction':'probability'\n",
        "\n",
        "})"
      ]
    },
    {
      "cell_type": "code",
      "execution_count": null,
      "metadata": {
        "id": "wGvNM7Hrwbin"
      },
      "outputs": [],
      "source": [
        "def recommend_product(customer_id):\n",
        "\n",
        "  print(\" \\n---------- Top 5 Bought StockCodes -----------\\n\")\n",
        "\n",
        "\n",
        "  print(df_order[df_order['CustomerID']==customer_id][['CustomerID','StockCode','Quantity']].nlargest(5,'Quantity'))\n",
        "\n",
        "  top_5_bought = df_order[df_order['CustomerID']==customer_id][['CustomerID','StockCode','Quantity']].nlargest(5,'Quantity')\n",
        "\n",
        "  print('\\n-------Product Name of bought StockCodes ------\\n')\n",
        "\n",
        "  print(df_product[df_product.StockCode.isin(top_5_bought.StockCode)]['Product Name'])\n",
        "\n",
        "\n",
        "  print(\"\\n --------- Top 5 Recommendations ------------ \\n\")\n",
        "\n",
        "  print(all_predictions[all_predictions['CustomerID']==customer_id].nlargest(5,'probability'))\n",
        "\n",
        "  recommend = all_predictions[all_predictions['CustomerID']==customer_id].nlargest(5,'probability')\n",
        "\n",
        "  print('\\n-------Product Name of Recommendations ------\\n')\n",
        "\n",
        "  print(df_product[df_product.StockCode.isin(recommend.StockCode)]['Product Name'])\n"
      ]
    },
    {
      "cell_type": "markdown",
      "metadata": {
        "id": "uBQUDREPwbin"
      },
      "source": []
    },
    {
      "cell_type": "markdown",
      "metadata": {
        "id": "YC0TxUX9wbin"
      },
      "source": [
        "### 5. Recommendation's"
      ]
    },
    {
      "cell_type": "code",
      "execution_count": null,
      "metadata": {
        "colab": {
          "base_uri": "https://localhost:8080/"
        },
        "id": "HfyC9NESwbin",
        "outputId": "e51bbfa9-f9b9-40d0-dda7-8b98c09127f7"
      },
      "outputs": [
        {
          "name": "stdout",
          "output_type": "stream",
          "text": [
            " \n",
            "---------- Top 5 Bought StockCodes -----------\n",
            "\n",
            "      CustomerID StockCode  Quantity\n",
            "285        17850    82494L        12\n",
            "2629       17850    85123A        12\n",
            "2634       17850     71053        12\n",
            "2978       17850     71053        12\n",
            "2983       17850    85123A        12\n",
            "\n",
            "-------Product Name of bought StockCodes ------\n",
            "\n",
            "135    Mediven Sheer and Soft 15-20 mmHg Thigh w/ Lac...\n",
            "179           AARCO Enclosed Wall Mounted Bulletin Board\n",
            "967    Awkward Styles Shamrock Flag St. Patrick's Day...\n",
            "Name: Product Name, dtype: object\n",
            "\n",
            " --------- Top 5 Recommendations ------------ \n",
            "\n",
            "         CustomerID  StockCode timestamp  probability\n",
            "8943151       17850      22461       NaT     0.999219\n",
            "8943545       17850      22834       NaT     0.998809\n",
            "8942184       17850      21137       NaT     0.994908\n",
            "8942769       17850      22041       NaT     0.993368\n",
            "8943963       17850      23284       NaT     0.946858\n",
            "\n",
            "-------Product Name of Recommendations ------\n",
            "\n",
            "103               Window Tint Film Chevy (back doors) DIY\n",
            "486     8 1/2 x 14 Cardstock - Crystal Metallic (500 Q...\n",
            "785     Awkward Styles Unisex USA Flag Pitbull Graphic...\n",
            "917     MightySkins Skin Decal Wrap Compatible with Go...\n",
            "1403    MightySkins Skin Decal Wrap Compatible with DJ...\n",
            "Name: Product Name, dtype: object\n"
          ]
        }
      ],
      "source": [
        "recommend_product(17850)"
      ]
    },
    {
      "cell_type": "code",
      "execution_count": null,
      "metadata": {
        "colab": {
          "base_uri": "https://localhost:8080/"
        },
        "id": "evSNXMhJwbin",
        "outputId": "2dd3d408-bcfb-4d8c-cac2-bc17b762e59b"
      },
      "outputs": [
        {
          "name": "stdout",
          "output_type": "stream",
          "text": [
            " \n",
            "---------- Top 5 Bought StockCodes -----------\n",
            "\n",
            "        CustomerID StockCode  Quantity\n",
            "272296       15127     23263        48\n",
            "272287       15127     23354        24\n",
            "272288       15127     22813        24\n",
            "272289       15127     23096        24\n",
            "272285       15127     21181        12\n",
            "\n",
            "-------Product Name of bought StockCodes ------\n",
            "\n",
            "13                billyboards Porcelain School Chalkboard\n",
            "374     MightySkins Protective Vinyl Skin Decal for Po...\n",
            "923     Zoan Synchrony Duo Sport Electric Snow Helmet ...\n",
            "952     MightySkins Skin Decal Wrap Compatible with Sm...\n",
            "1576    EMPIRE KLIX Klutch Designer Wallet Case for LG G2\n",
            "Name: Product Name, dtype: object\n",
            "\n",
            " --------- Top 5 Recommendations ------------ \n",
            "\n",
            "         CustomerID  StockCode timestamp  probability\n",
            "4598226       15127      21014       NaT     0.976578\n",
            "4599355       15127      22581       NaT     0.973452\n",
            "4598907       15127      22086       NaT     0.958767\n",
            "4599574       15127      22809       NaT     0.955360\n",
            "4600086       15127      23356       NaT     0.949005\n",
            "\n",
            "-------Product Name of Recommendations ------\n",
            "\n",
            "140                    August Grove 'Sunset Flight' Print\n",
            "279     MightySkins Skin Decal Wrap Compatible with Sm...\n",
            "406     MightySkins Protective Vinyl Skin Decal for HP...\n",
            "1062    Ebe Prescription Glasses Mens Womens Burgundy ...\n",
            "1713    Ebe Prescription Glasses Mens Womens Burgundy ...\n",
            "Name: Product Name, dtype: object\n"
          ]
        }
      ],
      "source": [
        "recommend_product(15127)\n"
      ]
    },
    {
      "cell_type": "code",
      "execution_count": null,
      "metadata": {
        "colab": {
          "base_uri": "https://localhost:8080/"
        },
        "id": "Xf5ayPgUwbin",
        "outputId": "6362a5c2-403b-4207-d6aa-9ad7912ab77d"
      },
      "outputs": [
        {
          "name": "stdout",
          "output_type": "stream",
          "text": [
            " \n",
            "---------- Top 5 Bought StockCodes -----------\n",
            "\n",
            "        CustomerID StockCode  Quantity\n",
            "168005       15187     84945        72\n",
            "230220       15187     22128        60\n",
            "265118       15187     84945        48\n",
            "127141       15187     22197        36\n",
            "230218       15187     23310        36\n",
            "\n",
            "-------Product Name of bought StockCodes ------\n",
            "\n",
            "236     MightySkins Skin Decal Wrap Compatible with HP...\n",
            "559     Extreme Networks OUTDOOR IP66 802.3AT GB ETHRT...\n",
            "1817                     Women's Rialto Adora Ballet Flat\n",
            "1821    Clear 18 Note Acrylic Box Musical Paperweight ...\n",
            "Name: Product Name, dtype: object\n",
            "\n",
            " --------- Top 5 Recommendations ------------ \n",
            "\n",
            "         CustomerID  StockCode timestamp  probability\n",
            "4701670       15187      21086       NaT     0.975198\n",
            "4702533       15187      22333       NaT     0.969833\n",
            "4703486       15187      23351       NaT     0.967847\n",
            "4702311       15187      22086       NaT     0.962387\n",
            "4701675       15187      21094       NaT     0.960643\n",
            "\n",
            "-------Product Name of Recommendations ------\n",
            "\n",
            "68      Boss (hub) Boss 0551 Eyeglasses 0INX 58 Black ...\n",
            "115     Mediven Sheer and Soft 15-20 mmHg Thigh w/ Lac...\n",
            "140                    August Grove 'Sunset Flight' Print\n",
            "1012    Pterosaur Wall Decal - dinosaur wall decal, st...\n",
            "1476                    Unisex F**k It Short Sleeve Shirt\n",
            "Name: Product Name, dtype: object\n"
          ]
        }
      ],
      "source": [
        "recommend_product(15187)"
      ]
    },
    {
      "cell_type": "code",
      "execution_count": null,
      "metadata": {
        "id": "Vsz-2Yi8wbin"
      },
      "outputs": [],
      "source": []
    },
    {
      "cell_type": "markdown",
      "metadata": {
        "id": "DUCpQCfn2mXt"
      },
      "source": [
        "# **Model4 on MLP**"
      ]
    },
    {
      "cell_type": "code",
      "execution_count": null,
      "metadata": {
        "colab": {
          "base_uri": "https://localhost:8080/"
        },
        "id": "ds28Mv-W2mXt",
        "outputId": "6a7cde43-d7e9-4326-aa83-b806da5cb8da"
      },
      "outputs": [
        {
          "name": "stderr",
          "output_type": "stream",
          "text": [
            "C:\\Users\\Faisal\\AppData\\Local\\Programs\\Python\\Python312\\Lib\\site-packages\\tensorflow\\python\\keras\\engine\\base_layer_v1.py:1694: UserWarning: `layer.apply` is deprecated and will be removed in a future version. Please use `layer.__call__` method instead.\n",
            "  warnings.warn('`layer.apply` is deprecated and '\n"
          ]
        }
      ],
      "source": [
        "model4 = NCF (\n",
        "    n_users=data.n_users,\n",
        "    n_items=data.n_items,\n",
        "    model_type=\"MLP\",\n",
        "    n_factors=16,\n",
        "    layer_sizes=[32,16,8],\n",
        "    n_epochs=EPOCHS,\n",
        "    batch_size=BATCH_SIZE,\n",
        "    learning_rate=1e-3,\n",
        "    verbose=10,\n",
        "    seed=SEED\n",
        ")"
      ]
    },
    {
      "cell_type": "code",
      "execution_count": null,
      "metadata": {
        "colab": {
          "base_uri": "https://localhost:8080/"
        },
        "id": "ubfguLqh2mXu",
        "outputId": "749ac7fa-1633-4282-ddf9-5518359377a4"
      },
      "outputs": [
        {
          "name": "stderr",
          "output_type": "stream",
          "text": [
            "INFO:recommenders.models.ncf.ncf_singlenode:Epoch 10 [8.89s]: train_loss = 0.313106 \n",
            "INFO:recommenders.models.ncf.ncf_singlenode:Epoch 20 [9.06s]: train_loss = 0.280251 \n",
            "INFO:recommenders.models.ncf.ncf_singlenode:Epoch 30 [8.22s]: train_loss = 0.266504 \n",
            "INFO:recommenders.models.ncf.ncf_singlenode:Epoch 40 [8.10s]: train_loss = 0.259187 \n",
            "INFO:recommenders.models.ncf.ncf_singlenode:Epoch 50 [8.38s]: train_loss = 0.254047 \n"
          ]
        },
        {
          "name": "stdout",
          "output_type": "stream",
          "text": [
            "Took 429.7443 seconds for training.\n"
          ]
        }
      ],
      "source": [
        "with Timer() as train_time:\n",
        "    model4.fit(data)\n",
        "\n",
        "print(\"Took {} seconds for training.\".format(train_time))"
      ]
    },
    {
      "cell_type": "code",
      "execution_count": null,
      "metadata": {
        "colab": {
          "base_uri": "https://localhost:8080/"
        },
        "id": "79IzTzyq2mXu",
        "outputId": "271042da-2c80-4f64-9285-9808658c4cd3"
      },
      "outputs": [
        {
          "name": "stdout",
          "output_type": "stream",
          "text": [
            "Took 12.3476 seconds for prediction.\n"
          ]
        }
      ],
      "source": [
        "with Timer() as test_time:\n",
        "    users, items, preds = [], [], []\n",
        "    item = list(train.itemID.unique())\n",
        "    for user in train.userID.unique():\n",
        "        user = [user] * len(item)\n",
        "        users.extend(user)\n",
        "        items.extend(item)\n",
        "        preds.extend(list(model4.predict(user, item, is_list=True)))\n",
        "\n",
        "    all_predictions = pd.DataFrame(data={\"userID\": users, \"itemID\":items, \"prediction\":preds})\n",
        "\n",
        "    merged = pd.merge(train, all_predictions, on=[\"userID\", \"itemID\"], how=\"outer\")\n",
        "    all_predictions = merged[merged.rating.isnull()].drop('rating', axis=1)\n",
        "\n",
        "print(\"Took {} seconds for prediction.\".format(test_time))"
      ]
    },
    {
      "cell_type": "code",
      "execution_count": null,
      "metadata": {
        "colab": {
          "base_uri": "https://localhost:8080/"
        },
        "id": "gb58EhLh2mXu",
        "outputId": "3d7ef09a-5c72-4464-e07b-061aaebd28a0"
      },
      "outputs": [
        {
          "name": "stdout",
          "output_type": "stream",
          "text": [
            "MAP:\t0.038024\n",
            "NDCG:\t0.083776\n",
            "Precision@K:\t0.054574\n",
            "Recall@K:\t0.067928\n"
          ]
        }
      ],
      "source": [
        "eval_map = map_at_k(test, all_predictions, col_prediction='prediction', k=TOP_K)\n",
        "eval_ndcg = ndcg_at_k(test, all_predictions, col_prediction='prediction', k=TOP_K)\n",
        "eval_precision = precision_at_k(test, all_predictions, col_prediction='prediction', k=TOP_K)\n",
        "eval_recall = recall_at_k(test, all_predictions, col_prediction='prediction', k=TOP_K)\n",
        "\n",
        "print(\"MAP:\\t%f\" % eval_map,\n",
        "      \"NDCG:\\t%f\" % eval_ndcg,\n",
        "      \"Precision@K:\\t%f\" % eval_precision,\n",
        "      \"Recall@K:\\t%f\" % eval_recall, sep='\\n')"
      ]
    },
    {
      "cell_type": "code",
      "execution_count": null,
      "metadata": {
        "colab": {
          "base_uri": "https://localhost:8080/",
          "height": 206
        },
        "id": "UJ4eaoZu2mXu",
        "outputId": "1c133759-8bed-4edb-9d6c-b5bf37f31138"
      },
      "outputs": [
        {
          "data": {
            "text/html": [
              "<div>\n",
              "<style scoped>\n",
              "    .dataframe tbody tr th:only-of-type {\n",
              "        vertical-align: middle;\n",
              "    }\n",
              "\n",
              "    .dataframe tbody tr th {\n",
              "        vertical-align: top;\n",
              "    }\n",
              "\n",
              "    .dataframe thead th {\n",
              "        text-align: right;\n",
              "    }\n",
              "</style>\n",
              "<table border=\"1\" class=\"dataframe\">\n",
              "  <thead>\n",
              "    <tr style=\"text-align: right;\">\n",
              "      <th></th>\n",
              "      <th>userID</th>\n",
              "      <th>itemID</th>\n",
              "      <th>timestamp</th>\n",
              "      <th>prediction</th>\n",
              "    </tr>\n",
              "  </thead>\n",
              "  <tbody>\n",
              "    <tr>\n",
              "      <th>8942102</th>\n",
              "      <td>17850</td>\n",
              "      <td>21034</td>\n",
              "      <td>NaT</td>\n",
              "      <td>0.997788</td>\n",
              "    </tr>\n",
              "    <tr>\n",
              "      <th>8944498</th>\n",
              "      <td>17850</td>\n",
              "      <td>84947</td>\n",
              "      <td>NaT</td>\n",
              "      <td>0.991785</td>\n",
              "    </tr>\n",
              "    <tr>\n",
              "      <th>8943919</th>\n",
              "      <td>17850</td>\n",
              "      <td>23228</td>\n",
              "      <td>NaT</td>\n",
              "      <td>0.969061</td>\n",
              "    </tr>\n",
              "    <tr>\n",
              "      <th>8943545</th>\n",
              "      <td>17850</td>\n",
              "      <td>22834</td>\n",
              "      <td>NaT</td>\n",
              "      <td>0.899137</td>\n",
              "    </tr>\n",
              "    <tr>\n",
              "      <th>8943498</th>\n",
              "      <td>17850</td>\n",
              "      <td>22791</td>\n",
              "      <td>NaT</td>\n",
              "      <td>0.861623</td>\n",
              "    </tr>\n",
              "  </tbody>\n",
              "</table>\n",
              "</div>"
            ],
            "text/plain": [
              "         userID  itemID timestamp  prediction\n",
              "8942102   17850   21034       NaT    0.997788\n",
              "8944498   17850   84947       NaT    0.991785\n",
              "8943919   17850   23228       NaT    0.969061\n",
              "8943545   17850   22834       NaT    0.899137\n",
              "8943498   17850   22791       NaT    0.861623"
            ]
          },
          "execution_count": 80,
          "metadata": {},
          "output_type": "execute_result"
        }
      ],
      "source": [
        "all_predictions[all_predictions['userID']==17850].nlargest(5,'prediction')"
      ]
    },
    {
      "cell_type": "code",
      "execution_count": null,
      "metadata": {
        "id": "7zLzzsw_2mXu"
      },
      "outputs": [],
      "source": [
        "all_predictions = all_predictions.rename(columns={\n",
        "\n",
        "    \"userID\":'CustomerID',\"itemID\":'StockCode',\"rating\":'Quantity','prediction':'probability'\n",
        "\n",
        "})"
      ]
    },
    {
      "cell_type": "code",
      "execution_count": null,
      "metadata": {
        "id": "RfKhdAdH2mXv"
      },
      "outputs": [],
      "source": [
        "def recommend_product(customer_id):\n",
        "\n",
        "  print(\" \\n---------- Top 5 Bought StockCodes -----------\\n\")\n",
        "\n",
        "\n",
        "  print(df_order[df_order['CustomerID']==customer_id][['CustomerID','StockCode','Quantity']].nlargest(5,'Quantity'))\n",
        "\n",
        "  top_5_bought = df_order[df_order['CustomerID']==customer_id][['CustomerID','StockCode','Quantity']].nlargest(5,'Quantity')\n",
        "\n",
        "  print('\\n-------Product Name of bought StockCodes ------\\n')\n",
        "\n",
        "  print(df_product[df_product.StockCode.isin(top_5_bought.StockCode)]['Product Name'])\n",
        "\n",
        "\n",
        "  print(\"\\n --------- Top 5 Recommendations ------------ \\n\")\n",
        "\n",
        "  print(all_predictions[all_predictions['CustomerID']==customer_id].nlargest(5,'probability'))\n",
        "\n",
        "  recommend = all_predictions[all_predictions['CustomerID']==customer_id].nlargest(5,'probability')\n",
        "\n",
        "  print('\\n-------Product Name of Recommendations ------\\n')\n",
        "\n",
        "  print(df_product[df_product.StockCode.isin(recommend.StockCode)]['Product Name'])\n"
      ]
    },
    {
      "cell_type": "markdown",
      "metadata": {
        "id": "JkvSMZNp2mXv"
      },
      "source": []
    },
    {
      "cell_type": "markdown",
      "metadata": {
        "id": "cBll4hte2mXv"
      },
      "source": [
        "### 5. Recommendation's"
      ]
    },
    {
      "cell_type": "code",
      "execution_count": null,
      "metadata": {
        "colab": {
          "base_uri": "https://localhost:8080/"
        },
        "id": "b8LZ1zc32mXv",
        "outputId": "bdba1263-cde0-4fb8-afd5-9362be0fab71"
      },
      "outputs": [
        {
          "name": "stdout",
          "output_type": "stream",
          "text": [
            " \n",
            "---------- Top 5 Bought StockCodes -----------\n",
            "\n",
            "      CustomerID StockCode  Quantity\n",
            "285        17850    82494L        12\n",
            "2629       17850    85123A        12\n",
            "2634       17850     71053        12\n",
            "2978       17850     71053        12\n",
            "2983       17850    85123A        12\n",
            "\n",
            "-------Product Name of bought StockCodes ------\n",
            "\n",
            "135    Mediven Sheer and Soft 15-20 mmHg Thigh w/ Lac...\n",
            "179           AARCO Enclosed Wall Mounted Bulletin Board\n",
            "967    Awkward Styles Shamrock Flag St. Patrick's Day...\n",
            "Name: Product Name, dtype: object\n",
            "\n",
            " --------- Top 5 Recommendations ------------ \n",
            "\n",
            "         CustomerID  StockCode timestamp  probability\n",
            "8942102       17850      21034       NaT     0.997788\n",
            "8944498       17850      84947       NaT     0.991785\n",
            "8943919       17850      23228       NaT     0.969061\n",
            "8943545       17850      22834       NaT     0.899137\n",
            "8943498       17850      22791       NaT     0.861623\n",
            "\n",
            "-------Product Name of Recommendations ------\n",
            "\n",
            "215     MightySkins Skin Decal Wrap Compatible with Ap...\n",
            "785     Awkward Styles Unisex USA Flag Pitbull Graphic...\n",
            "930     MightySkins Skin Decal Wrap Compatible with Ap...\n",
            "1198    MightySkins Skin Decal Wrap Compatible with DJ...\n",
            "2269    Classic Mesh Ivy Newsboy Ivy Cap Hat Crochet D...\n",
            "Name: Product Name, dtype: object\n"
          ]
        }
      ],
      "source": [
        "recommend_product(17850)"
      ]
    },
    {
      "cell_type": "code",
      "execution_count": null,
      "metadata": {
        "colab": {
          "base_uri": "https://localhost:8080/"
        },
        "id": "OUSHV89B2mXv",
        "outputId": "67e56e79-80ba-4f88-e03d-4ec396827b88"
      },
      "outputs": [
        {
          "name": "stdout",
          "output_type": "stream",
          "text": [
            " \n",
            "---------- Top 5 Bought StockCodes -----------\n",
            "\n",
            "        CustomerID StockCode  Quantity\n",
            "272296       15127     23263        48\n",
            "272287       15127     23354        24\n",
            "272288       15127     22813        24\n",
            "272289       15127     23096        24\n",
            "272285       15127     21181        12\n",
            "\n",
            "-------Product Name of bought StockCodes ------\n",
            "\n",
            "13                billyboards Porcelain School Chalkboard\n",
            "374     MightySkins Protective Vinyl Skin Decal for Po...\n",
            "923     Zoan Synchrony Duo Sport Electric Snow Helmet ...\n",
            "952     MightySkins Skin Decal Wrap Compatible with Sm...\n",
            "1576    EMPIRE KLIX Klutch Designer Wallet Case for LG G2\n",
            "Name: Product Name, dtype: object\n",
            "\n",
            " --------- Top 5 Recommendations ------------ \n",
            "\n",
            "         CustomerID  StockCode timestamp  probability\n",
            "4600516       15127      85048       NaT     0.924063\n",
            "4599785       15127      23027       NaT     0.867985\n",
            "4599628       15127      22866       NaT     0.858371\n",
            "4599405       15127      22633       NaT     0.855296\n",
            "4599404       15127      22632       NaT     0.822422\n",
            "\n",
            "-------Product Name of Recommendations ------\n",
            "\n",
            "67      Awkward Styles Sugar Skull Shirts for Men Joll...\n",
            "965     Kids Toddler Baby Girls Boys Cartoon Animal Th...\n",
            "1625    Handcrafted Ercolano Music Box Featuring \"Lunc...\n",
            "2046    Mediven Sheer and Soft 15-20 mmHg Thigh w/ Lac...\n",
            "2863    OPI Nail Lacquer, OPI Classics Collection, 0.5...\n",
            "Name: Product Name, dtype: object\n"
          ]
        }
      ],
      "source": [
        "recommend_product(15127)\n"
      ]
    },
    {
      "cell_type": "markdown",
      "metadata": {
        "id": "ZD9v-4FJ2mXv"
      },
      "source": []
    },
    {
      "cell_type": "code",
      "execution_count": null,
      "metadata": {
        "colab": {
          "base_uri": "https://localhost:8080/"
        },
        "id": "p1pLKnTk2mXv",
        "outputId": "024a2b67-9f0b-4e8c-8fb0-c37c859e1134"
      },
      "outputs": [
        {
          "name": "stdout",
          "output_type": "stream",
          "text": [
            " \n",
            "---------- Top 5 Bought StockCodes -----------\n",
            "\n",
            "        CustomerID StockCode  Quantity\n",
            "168005       15187     84945        72\n",
            "230220       15187     22128        60\n",
            "265118       15187     84945        48\n",
            "127141       15187     22197        36\n",
            "230218       15187     23310        36\n",
            "\n",
            "-------Product Name of bought StockCodes ------\n",
            "\n",
            "236     MightySkins Skin Decal Wrap Compatible with HP...\n",
            "559     Extreme Networks OUTDOOR IP66 802.3AT GB ETHRT...\n",
            "1817                     Women's Rialto Adora Ballet Flat\n",
            "1821    Clear 18 Note Acrylic Box Musical Paperweight ...\n",
            "Name: Product Name, dtype: object\n",
            "\n",
            " --------- Top 5 Recommendations ------------ \n",
            "\n",
            "         CustomerID  StockCode timestamp  probability\n",
            "4703356       15187      23206       NaT     0.934214\n",
            "4702554       15187      22355       NaT     0.906717\n",
            "4702259       15187      22029       NaT     0.901358\n",
            "4702217       15187      21933       NaT     0.890488\n",
            "4702555       15187      22356       NaT     0.885709\n",
            "\n",
            "-------Product Name of Recommendations ------\n",
            "\n",
            "21     MightySkins Skin Decal Wrap Compatible with DJ...\n",
            "93     Casual Nights Women's 2 Piece Floral Robe and ...\n",
            "254    Port Company PC61 Traditional MenÃ¢â‚¬s T-Shir...\n",
            "561                Wicked Colors grey, 2 oz. (pack of 3)\n",
            "584    Urbane Urbane Classic Crossover Scrub Top Scru...\n",
            "Name: Product Name, dtype: object\n"
          ]
        }
      ],
      "source": [
        "recommend_product(15187)"
      ]
    },
    {
      "cell_type": "code",
      "execution_count": null,
      "metadata": {
        "id": "kCRz8_Ff2mXv"
      },
      "outputs": [],
      "source": []
    },
    {
      "cell_type": "code",
      "execution_count": null,
      "metadata": {
        "id": "WZobFS8KbfMk"
      },
      "outputs": [],
      "source": []
    },
    {
      "cell_type": "code",
      "execution_count": null,
      "metadata": {
        "id": "ZhDxOcJ6bfMk"
      },
      "outputs": [],
      "source": []
    },
    {
      "cell_type": "markdown",
      "metadata": {
        "id": "cVeuJGs_bfMk"
      },
      "source": [
        "# **Model 6 on NueMF**"
      ]
    },
    {
      "cell_type": "code",
      "execution_count": null,
      "metadata": {
        "colab": {
          "base_uri": "https://localhost:8080/"
        },
        "outputId": "c1224e68-e01f-41b2-f076-c122b4f71e82",
        "id": "_sOQ_G_wbfMk"
      },
      "outputs": [
        {
          "name": "stderr",
          "output_type": "stream",
          "text": [
            "C:\\Users\\Faisal\\AppData\\Local\\Programs\\Python\\Python312\\Lib\\site-packages\\tensorflow\\python\\keras\\engine\\base_layer_v1.py:1694: UserWarning: `layer.apply` is deprecated and will be removed in a future version. Please use `layer.__call__` method instead.\n",
            "  warnings.warn('`layer.apply` is deprecated and '\n"
          ]
        }
      ],
      "source": [
        "model6 = NCF (\n",
        "    n_users=data.n_users,\n",
        "    n_items=data.n_items,\n",
        "    model_type=\"NeuMF\",\n",
        "    n_factors=32,\n",
        "    layer_sizes=[64,32,16],\n",
        "    n_epochs=EPOCHS,\n",
        "    batch_size=BATCH_SIZE,\n",
        "    learning_rate=1e-3,\n",
        "    verbose=10,\n",
        "    seed=SEED\n",
        ")"
      ]
    },
    {
      "cell_type": "code",
      "execution_count": null,
      "metadata": {
        "colab": {
          "base_uri": "https://localhost:8080/"
        },
        "outputId": "c37ae508-d6ed-4b63-bb81-9c6f975fe70d",
        "id": "DIT-I6iabfMk"
      },
      "outputs": [
        {
          "name": "stderr",
          "output_type": "stream",
          "text": [
            "INFO:recommenders.models.ncf.ncf_singlenode:Epoch 10 [28.60s]: train_loss = 0.175643 \n",
            "INFO:recommenders.models.ncf.ncf_singlenode:Epoch 20 [29.60s]: train_loss = 0.137285 \n",
            "INFO:recommenders.models.ncf.ncf_singlenode:Epoch 30 [34.08s]: train_loss = 0.114914 \n",
            "INFO:recommenders.models.ncf.ncf_singlenode:Epoch 40 [32.64s]: train_loss = 0.100230 \n",
            "INFO:recommenders.models.ncf.ncf_singlenode:Epoch 50 [34.13s]: train_loss = 0.091912 \n"
          ]
        },
        {
          "name": "stdout",
          "output_type": "stream",
          "text": [
            "Took 1418.2314 seconds for training.\n"
          ]
        }
      ],
      "source": [
        "with Timer() as train_time:\n",
        "    model6.fit(data)\n",
        "\n",
        "print(\"Took {} seconds for training.\".format(train_time))"
      ]
    },
    {
      "cell_type": "code",
      "execution_count": null,
      "metadata": {
        "colab": {
          "base_uri": "https://localhost:8080/"
        },
        "outputId": "b4a645ae-f580-406e-b5ff-64a7f901a526",
        "id": "wIfspckVbfMk"
      },
      "outputs": [
        {
          "name": "stdout",
          "output_type": "stream",
          "text": [
            "Took 12.9531 seconds for prediction.\n"
          ]
        }
      ],
      "source": [
        "with Timer() as test_time:\n",
        "    users, items, preds = [], [], []\n",
        "    item = list(train.itemID.unique())\n",
        "    for user in train.userID.unique():\n",
        "        user = [user] * len(item)\n",
        "        users.extend(user)\n",
        "        items.extend(item)\n",
        "        preds.extend(list(model6.predict(user, item, is_list=True)))\n",
        "\n",
        "    all_predictions = pd.DataFrame(data={\"userID\": users, \"itemID\":items, \"prediction\":preds})\n",
        "\n",
        "    merged = pd.merge(train, all_predictions, on=[\"userID\", \"itemID\"], how=\"outer\")\n",
        "    all_predictions = merged[merged.rating.isnull()].drop('rating', axis=1)\n",
        "\n",
        "print(\"Took {} seconds for prediction.\".format(test_time))"
      ]
    },
    {
      "cell_type": "code",
      "execution_count": null,
      "metadata": {
        "colab": {
          "base_uri": "https://localhost:8080/"
        },
        "outputId": "8c7d9c4f-91aa-4279-918a-82b5219799d3",
        "id": "yNEmmhphbfMk"
      },
      "outputs": [
        {
          "name": "stdout",
          "output_type": "stream",
          "text": [
            "MAP:\t0.052095\n",
            "NDCG:\t0.103652\n",
            "Precision@K:\t0.062007\n",
            "Recall@K:\t0.093809\n"
          ]
        }
      ],
      "source": [
        "eval_map = map_at_k(test, all_predictions, col_prediction='prediction', k=TOP_K)\n",
        "eval_ndcg = ndcg_at_k(test, all_predictions, col_prediction='prediction', k=TOP_K)\n",
        "eval_precision = precision_at_k(test, all_predictions, col_prediction='prediction', k=TOP_K)\n",
        "eval_recall = recall_at_k(test, all_predictions, col_prediction='prediction', k=TOP_K)\n",
        "\n",
        "print(\"MAP:\\t%f\" % eval_map,\n",
        "      \"NDCG:\\t%f\" % eval_ndcg,\n",
        "      \"Precision@K:\\t%f\" % eval_precision,\n",
        "      \"Recall@K:\\t%f\" % eval_recall, sep='\\n')"
      ]
    },
    {
      "cell_type": "code",
      "execution_count": null,
      "metadata": {
        "colab": {
          "base_uri": "https://localhost:8080/",
          "height": 206
        },
        "outputId": "f395cb78-a60e-4e96-e779-ea0c1a69ab52",
        "id": "liS9MMg0bfMk"
      },
      "outputs": [
        {
          "data": {
            "text/html": [
              "<div>\n",
              "<style scoped>\n",
              "    .dataframe tbody tr th:only-of-type {\n",
              "        vertical-align: middle;\n",
              "    }\n",
              "\n",
              "    .dataframe tbody tr th {\n",
              "        vertical-align: top;\n",
              "    }\n",
              "\n",
              "    .dataframe thead th {\n",
              "        text-align: right;\n",
              "    }\n",
              "</style>\n",
              "<table border=\"1\" class=\"dataframe\">\n",
              "  <thead>\n",
              "    <tr style=\"text-align: right;\">\n",
              "      <th></th>\n",
              "      <th>userID</th>\n",
              "      <th>itemID</th>\n",
              "      <th>timestamp</th>\n",
              "      <th>prediction</th>\n",
              "    </tr>\n",
              "  </thead>\n",
              "  <tbody>\n",
              "    <tr>\n",
              "      <th>8942669</th>\n",
              "      <td>17850</td>\n",
              "      <td>21875</td>\n",
              "      <td>NaT</td>\n",
              "      <td>0.413871</td>\n",
              "    </tr>\n",
              "    <tr>\n",
              "      <th>8942137</th>\n",
              "      <td>17850</td>\n",
              "      <td>21069</td>\n",
              "      <td>NaT</td>\n",
              "      <td>0.358113</td>\n",
              "    </tr>\n",
              "    <tr>\n",
              "      <th>8943893</th>\n",
              "      <td>17850</td>\n",
              "      <td>23202</td>\n",
              "      <td>NaT</td>\n",
              "      <td>0.294784</td>\n",
              "    </tr>\n",
              "    <tr>\n",
              "      <th>8943351</th>\n",
              "      <td>17850</td>\n",
              "      <td>22649</td>\n",
              "      <td>NaT</td>\n",
              "      <td>0.242581</td>\n",
              "    </tr>\n",
              "    <tr>\n",
              "      <th>8942844</th>\n",
              "      <td>17850</td>\n",
              "      <td>22119</td>\n",
              "      <td>NaT</td>\n",
              "      <td>0.098881</td>\n",
              "    </tr>\n",
              "  </tbody>\n",
              "</table>\n",
              "</div>"
            ],
            "text/plain": [
              "         userID  itemID timestamp  prediction\n",
              "8942669   17850   21875       NaT    0.413871\n",
              "8942137   17850   21069       NaT    0.358113\n",
              "8943893   17850   23202       NaT    0.294784\n",
              "8943351   17850   22649       NaT    0.242581\n",
              "8942844   17850   22119       NaT    0.098881"
            ]
          },
          "execution_count": 108,
          "metadata": {},
          "output_type": "execute_result"
        }
      ],
      "source": [
        "all_predictions[all_predictions['userID']==17850].nlargest(5,'prediction')"
      ]
    },
    {
      "cell_type": "code",
      "execution_count": null,
      "metadata": {
        "jupyter": {
          "source_hidden": true
        },
        "id": "049QJeyLbfMl"
      },
      "outputs": [],
      "source": [
        "all_predictions = all_predictions.rename(columns={\n",
        "\n",
        "    \"userID\":'CustomerID',\"itemID\":'StockCode',\"rating\":'Quantity','prediction':'probability'\n",
        "\n",
        "})"
      ]
    },
    {
      "cell_type": "code",
      "execution_count": null,
      "metadata": {
        "id": "e9LmuVcRbfMl"
      },
      "outputs": [],
      "source": [
        "def recommend_product(customer_id):\n",
        "\n",
        "  print(\" \\n---------- Top 5 Bought StockCodes -----------\\n\")\n",
        "\n",
        "\n",
        "  print(df_order[df_order['CustomerID']==customer_id][['CustomerID','StockCode','Quantity']].nlargest(5,'Quantity'))\n",
        "\n",
        "  top_5_bought = df_order[df_order['CustomerID']==customer_id][['CustomerID','StockCode','Quantity']].nlargest(5,'Quantity')\n",
        "\n",
        "  print('\\n-------Product Name of bought StockCodes ------\\n')\n",
        "\n",
        "  print(df_product[df_product.StockCode.isin(top_5_bought.StockCode)]['Product Name'])\n",
        "\n",
        "\n",
        "  print(\"\\n --------- Top 5 Recommendations ------------ \\n\")\n",
        "\n",
        "  print(all_predictions[all_predictions['CustomerID']==customer_id].nlargest(5,'probability'))\n",
        "\n",
        "  recommend = all_predictions[all_predictions['CustomerID']==customer_id].nlargest(5,'probability')\n",
        "\n",
        "  print('\\n-------Product Name of Recommendations ------\\n')\n",
        "\n",
        "  print(df_product[df_product.StockCode.isin(recommend.StockCode)]['Product Name'])\n"
      ]
    },
    {
      "cell_type": "markdown",
      "metadata": {
        "id": "yGo6GEAJbfMl"
      },
      "source": []
    },
    {
      "cell_type": "markdown",
      "metadata": {
        "id": "6QLX6073bfMl"
      },
      "source": [
        "### 5. Recommendation's"
      ]
    },
    {
      "cell_type": "code",
      "execution_count": null,
      "metadata": {
        "colab": {
          "base_uri": "https://localhost:8080/"
        },
        "outputId": "d84a37f1-daac-453c-9c63-8c728867818e",
        "id": "dJOeVXznbfMl"
      },
      "outputs": [
        {
          "name": "stdout",
          "output_type": "stream",
          "text": [
            " \n",
            "---------- Top 5 Bought StockCodes -----------\n",
            "\n",
            "      CustomerID StockCode  Quantity\n",
            "285        17850    82494L        12\n",
            "2629       17850    85123A        12\n",
            "2634       17850     71053        12\n",
            "2978       17850     71053        12\n",
            "2983       17850    85123A        12\n",
            "\n",
            "-------Product Name of bought StockCodes ------\n",
            "\n",
            "135    Mediven Sheer and Soft 15-20 mmHg Thigh w/ Lac...\n",
            "179           AARCO Enclosed Wall Mounted Bulletin Board\n",
            "967    Awkward Styles Shamrock Flag St. Patrick's Day...\n",
            "Name: Product Name, dtype: object\n",
            "\n",
            " --------- Top 5 Recommendations ------------ \n",
            "\n",
            "         CustomerID  StockCode timestamp  probability\n",
            "8942669       17850      21875       NaT     0.413871\n",
            "8942137       17850      21069       NaT     0.358113\n",
            "8943893       17850      23202       NaT     0.294784\n",
            "8943351       17850      22649       NaT     0.242581\n",
            "8942844       17850      22119       NaT     0.098881\n",
            "\n",
            "-------Product Name of Recommendations ------\n",
            "\n",
            "418     16 inches 40 inches \"MERRY CHRISTMAS\" Letter F...\n",
            "502     MightySkins Skin Decal Wrap Compatible with YE...\n",
            "1196    The Holiday Aisle 3 Piece Tissue Snowflake Set...\n",
            "2778    Clear 18 Note Acrylic Box Musical Paperweight ...\n",
            "2835         Buckle-Down DL-W30350-N Narrow 0.5\" Cassette\n",
            "Name: Product Name, dtype: object\n"
          ]
        }
      ],
      "source": [
        "recommend_product(17850)"
      ]
    },
    {
      "cell_type": "code",
      "execution_count": null,
      "metadata": {
        "colab": {
          "base_uri": "https://localhost:8080/"
        },
        "outputId": "279fcd66-f9fd-47aa-d71d-19eed07a0862",
        "id": "fBisspG7bfMl"
      },
      "outputs": [
        {
          "name": "stdout",
          "output_type": "stream",
          "text": [
            " \n",
            "---------- Top 5 Bought StockCodes -----------\n",
            "\n",
            "        CustomerID StockCode  Quantity\n",
            "272296       15127     23263        48\n",
            "272287       15127     23354        24\n",
            "272288       15127     22813        24\n",
            "272289       15127     23096        24\n",
            "272285       15127     21181        12\n",
            "\n",
            "-------Product Name of bought StockCodes ------\n",
            "\n",
            "13                billyboards Porcelain School Chalkboard\n",
            "374     MightySkins Protective Vinyl Skin Decal for Po...\n",
            "923     Zoan Synchrony Duo Sport Electric Snow Helmet ...\n",
            "952     MightySkins Skin Decal Wrap Compatible with Sm...\n",
            "1576    EMPIRE KLIX Klutch Designer Wallet Case for LG G2\n",
            "Name: Product Name, dtype: object\n",
            "\n",
            " --------- Top 5 Recommendations ------------ \n",
            "\n",
            "         CustomerID  StockCode timestamp  probability\n",
            "4598316       15127      21169       NaT     0.999899\n",
            "4598960       15127      22144       NaT     0.999855\n",
            "4599876       15127      23130       NaT     0.999433\n",
            "4599577       15127      22812       NaT     0.999098\n",
            "4600550       15127      85152       NaT     0.991763\n",
            "\n",
            "-------Product Name of Recommendations ------\n",
            "\n",
            "497     MightySkins Skin Decal Wrap Compatible with Li...\n",
            "1066    Election 2016 Keep Calm and Vote Santorum Blac...\n",
            "1426    MightySkins Skin Decal Wrap Compatible with Ot...\n",
            "1450    6 1/4 x 6 1/4 Gatefold Invitation - Mandarin O...\n",
            "2247    MightySkins Skin Decal Wrap Compatible with Li...\n",
            "Name: Product Name, dtype: object\n"
          ]
        }
      ],
      "source": [
        "recommend_product(15127)\n"
      ]
    },
    {
      "cell_type": "markdown",
      "metadata": {
        "id": "Dqd4wz3cbfMl"
      },
      "source": []
    },
    {
      "cell_type": "code",
      "execution_count": null,
      "metadata": {
        "id": "3kL9La1WbfMl"
      },
      "outputs": [],
      "source": []
    },
    {
      "cell_type": "code",
      "execution_count": null,
      "metadata": {
        "id": "IlqTlj0TbfMl"
      },
      "outputs": [],
      "source": []
    },
    {
      "cell_type": "markdown",
      "metadata": {
        "id": "o0zQwri5bfMl"
      },
      "source": [
        "# **Model 7 on NueMF**"
      ]
    },
    {
      "cell_type": "code",
      "execution_count": null,
      "metadata": {
        "colab": {
          "base_uri": "https://localhost:8080/"
        },
        "outputId": "c1224e68-e01f-41b2-f076-c122b4f71e82",
        "id": "K3sjxRF_bfMl"
      },
      "outputs": [
        {
          "name": "stderr",
          "output_type": "stream",
          "text": [
            "C:\\Users\\Faisal\\AppData\\Local\\Programs\\Python\\Python312\\Lib\\site-packages\\tensorflow\\python\\keras\\engine\\base_layer_v1.py:1694: UserWarning: `layer.apply` is deprecated and will be removed in a future version. Please use `layer.__call__` method instead.\n",
            "  warnings.warn('`layer.apply` is deprecated and '\n"
          ]
        }
      ],
      "source": [
        "model7 = NCF (\n",
        "    n_users=data.n_users,\n",
        "    n_items=data.n_items,\n",
        "    model_type=\"NeuMF\",\n",
        "    n_factors=16,\n",
        "    layer_sizes=[64,32,16],\n",
        "    n_epochs=EPOCHS,\n",
        "    batch_size=BATCH_SIZE,\n",
        "    learning_rate=1e-3,\n",
        "    verbose=10,\n",
        "    seed=SEED\n",
        ")"
      ]
    },
    {
      "cell_type": "code",
      "execution_count": null,
      "metadata": {
        "colab": {
          "base_uri": "https://localhost:8080/"
        },
        "jupyter": {
          "source_hidden": true
        },
        "outputId": "c37ae508-d6ed-4b63-bb81-9c6f975fe70d",
        "id": "w4OepkbfbfMl"
      },
      "outputs": [
        {
          "name": "stderr",
          "output_type": "stream",
          "text": [
            "INFO:recommenders.models.ncf.ncf_singlenode:Epoch 10 [31.95s]: train_loss = 0.218082 \n",
            "INFO:recommenders.models.ncf.ncf_singlenode:Epoch 20 [33.21s]: train_loss = 0.177214 \n",
            "INFO:recommenders.models.ncf.ncf_singlenode:Epoch 30 [33.91s]: train_loss = 0.155413 \n",
            "INFO:recommenders.models.ncf.ncf_singlenode:Epoch 40 [10.73s]: train_loss = 0.141631 \n",
            "INFO:recommenders.models.ncf.ncf_singlenode:Epoch 50 [12.02s]: train_loss = 0.131818 \n"
          ]
        },
        {
          "name": "stdout",
          "output_type": "stream",
          "text": [
            "Took 1296.9278 seconds for training.\n"
          ]
        }
      ],
      "source": [
        "with Timer() as train_time:\n",
        "    model7.fit(data)\n",
        "\n",
        "print(\"Took {} seconds for training.\".format(train_time))"
      ]
    },
    {
      "cell_type": "code",
      "execution_count": null,
      "metadata": {
        "colab": {
          "base_uri": "https://localhost:8080/"
        },
        "outputId": "b4a645ae-f580-406e-b5ff-64a7f901a526",
        "id": "tJHasmCybfMl"
      },
      "outputs": [
        {
          "name": "stdout",
          "output_type": "stream",
          "text": [
            "Took 14.2035 seconds for prediction.\n"
          ]
        }
      ],
      "source": [
        "with Timer() as test_time:\n",
        "    users, items, preds = [], [], []\n",
        "    item = list(train.itemID.unique())\n",
        "    for user in train.userID.unique():\n",
        "        user = [user] * len(item)\n",
        "        users.extend(user)\n",
        "        items.extend(item)\n",
        "        preds.extend(list(model7.predict(user, item, is_list=True)))\n",
        "\n",
        "    all_predictions = pd.DataFrame(data={\"userID\": users, \"itemID\":items, \"prediction\":preds})\n",
        "\n",
        "    merged = pd.merge(train, all_predictions, on=[\"userID\", \"itemID\"], how=\"outer\")\n",
        "    all_predictions = merged[merged.rating.isnull()].drop('rating', axis=1)\n",
        "\n",
        "print(\"Took {} seconds for prediction.\".format(test_time))"
      ]
    },
    {
      "cell_type": "code",
      "execution_count": null,
      "metadata": {
        "colab": {
          "base_uri": "https://localhost:8080/"
        },
        "outputId": "8c7d9c4f-91aa-4279-918a-82b5219799d3",
        "id": "jnTGL2KSbfMl"
      },
      "outputs": [
        {
          "name": "stdout",
          "output_type": "stream",
          "text": [
            "MAP:\t0.048182\n",
            "NDCG:\t0.096287\n",
            "Precision@K:\t0.058433\n",
            "Recall@K:\t0.086541\n"
          ]
        }
      ],
      "source": [
        "eval_map = map_at_k(test, all_predictions, col_prediction='prediction', k=TOP_K)\n",
        "eval_ndcg = ndcg_at_k(test, all_predictions, col_prediction='prediction', k=TOP_K)\n",
        "eval_precision = precision_at_k(test, all_predictions, col_prediction='prediction', k=TOP_K)\n",
        "eval_recall = recall_at_k(test, all_predictions, col_prediction='prediction', k=TOP_K)\n",
        "\n",
        "print(\"MAP:\\t%f\" % eval_map,\n",
        "      \"NDCG:\\t%f\" % eval_ndcg,\n",
        "      \"Precision@K:\\t%f\" % eval_precision,\n",
        "      \"Recall@K:\\t%f\" % eval_recall, sep='\\n')"
      ]
    },
    {
      "cell_type": "code",
      "execution_count": null,
      "metadata": {
        "colab": {
          "base_uri": "https://localhost:8080/",
          "height": 206
        },
        "outputId": "f395cb78-a60e-4e96-e779-ea0c1a69ab52",
        "scrolled": true,
        "id": "Vw9TLWDxbfMl"
      },
      "outputs": [
        {
          "data": {
            "text/html": [
              "<div>\n",
              "<style scoped>\n",
              "    .dataframe tbody tr th:only-of-type {\n",
              "        vertical-align: middle;\n",
              "    }\n",
              "\n",
              "    .dataframe tbody tr th {\n",
              "        vertical-align: top;\n",
              "    }\n",
              "\n",
              "    .dataframe thead th {\n",
              "        text-align: right;\n",
              "    }\n",
              "</style>\n",
              "<table border=\"1\" class=\"dataframe\">\n",
              "  <thead>\n",
              "    <tr style=\"text-align: right;\">\n",
              "      <th></th>\n",
              "      <th>userID</th>\n",
              "      <th>itemID</th>\n",
              "      <th>timestamp</th>\n",
              "      <th>prediction</th>\n",
              "    </tr>\n",
              "  </thead>\n",
              "  <tbody>\n",
              "    <tr>\n",
              "      <th>8943545</th>\n",
              "      <td>17850</td>\n",
              "      <td>22834</td>\n",
              "      <td>NaT</td>\n",
              "      <td>0.999978</td>\n",
              "    </tr>\n",
              "    <tr>\n",
              "      <th>8943000</th>\n",
              "      <td>17850</td>\n",
              "      <td>22300</td>\n",
              "      <td>NaT</td>\n",
              "      <td>0.999502</td>\n",
              "    </tr>\n",
              "    <tr>\n",
              "      <th>8942839</th>\n",
              "      <td>17850</td>\n",
              "      <td>22114</td>\n",
              "      <td>NaT</td>\n",
              "      <td>0.883844</td>\n",
              "    </tr>\n",
              "    <tr>\n",
              "      <th>8944347</th>\n",
              "      <td>17850</td>\n",
              "      <td>82484</td>\n",
              "      <td>NaT</td>\n",
              "      <td>0.847623</td>\n",
              "    </tr>\n",
              "    <tr>\n",
              "      <th>8943153</th>\n",
              "      <td>17850</td>\n",
              "      <td>22465</td>\n",
              "      <td>NaT</td>\n",
              "      <td>0.744852</td>\n",
              "    </tr>\n",
              "  </tbody>\n",
              "</table>\n",
              "</div>"
            ],
            "text/plain": [
              "         userID  itemID timestamp  prediction\n",
              "8943545   17850   22834       NaT    0.999978\n",
              "8943000   17850   22300       NaT    0.999502\n",
              "8942839   17850   22114       NaT    0.883844\n",
              "8944347   17850   82484       NaT    0.847623\n",
              "8943153   17850   22465       NaT    0.744852"
            ]
          },
          "execution_count": 125,
          "metadata": {},
          "output_type": "execute_result"
        }
      ],
      "source": [
        "all_predictions[all_predictions['userID']==17850].nlargest(5,'prediction')"
      ]
    },
    {
      "cell_type": "code",
      "execution_count": null,
      "metadata": {
        "id": "3sLR_GUbbfMl"
      },
      "outputs": [],
      "source": [
        "all_predictions = all_predictions.rename(columns={\n",
        "\n",
        "    \"userID\":'CustomerID',\"itemID\":'StockCode',\"rating\":'Quantity','prediction':'probability'\n",
        "\n",
        "})"
      ]
    },
    {
      "cell_type": "code",
      "execution_count": null,
      "metadata": {
        "id": "xBBfQxkMbfMl"
      },
      "outputs": [],
      "source": [
        "def recommend_product(customer_id):\n",
        "\n",
        "  print(\" \\n---------- Top 5 Bought StockCodes -----------\\n\")\n",
        "\n",
        "\n",
        "  print(df_order[df_order['CustomerID']==customer_id][['CustomerID','StockCode','Quantity']].nlargest(5,'Quantity'))\n",
        "\n",
        "  top_5_bought = df_order[df_order['CustomerID']==customer_id][['CustomerID','StockCode','Quantity']].nlargest(5,'Quantity')\n",
        "\n",
        "  print('\\n-------Product Name of bought StockCodes ------\\n')\n",
        "\n",
        "  print(df_product[df_product.StockCode.isin(top_5_bought.StockCode)]['Product Name'])\n",
        "\n",
        "\n",
        "  print(\"\\n --------- Top 5 Recommendations ------------ \\n\")\n",
        "\n",
        "  print(all_predictions[all_predictions['CustomerID']==customer_id].nlargest(5,'probability'))\n",
        "\n",
        "  recommend = all_predictions[all_predictions['CustomerID']==customer_id].nlargest(5,'probability')\n",
        "\n",
        "  print('\\n-------Product Name of Recommendations ------\\n')\n",
        "\n",
        "  print(df_product[df_product.StockCode.isin(recommend.StockCode)]['Product Name'])\n"
      ]
    },
    {
      "cell_type": "markdown",
      "metadata": {
        "id": "X1erXYtPbfMl"
      },
      "source": []
    },
    {
      "cell_type": "markdown",
      "metadata": {
        "id": "LgN9hjttbfMm"
      },
      "source": [
        "### 5. Recommendation's"
      ]
    },
    {
      "cell_type": "code",
      "execution_count": null,
      "metadata": {
        "colab": {
          "base_uri": "https://localhost:8080/"
        },
        "outputId": "d84a37f1-daac-453c-9c63-8c728867818e",
        "scrolled": true,
        "id": "ILCjF7oAbfMm"
      },
      "outputs": [
        {
          "name": "stdout",
          "output_type": "stream",
          "text": [
            " \n",
            "---------- Top 5 Bought StockCodes -----------\n",
            "\n",
            "      CustomerID StockCode  Quantity\n",
            "285        17850    82494L        12\n",
            "2629       17850    85123A        12\n",
            "2634       17850     71053        12\n",
            "2978       17850     71053        12\n",
            "2983       17850    85123A        12\n",
            "\n",
            "-------Product Name of bought StockCodes ------\n",
            "\n",
            "135    Mediven Sheer and Soft 15-20 mmHg Thigh w/ Lac...\n",
            "179           AARCO Enclosed Wall Mounted Bulletin Board\n",
            "967    Awkward Styles Shamrock Flag St. Patrick's Day...\n",
            "Name: Product Name, dtype: object\n",
            "\n",
            " --------- Top 5 Recommendations ------------ \n",
            "\n",
            "         CustomerID  StockCode timestamp  probability\n",
            "8943545       17850      22834       NaT     0.999978\n",
            "8943000       17850      22300       NaT     0.999502\n",
            "8942839       17850      22114       NaT     0.883844\n",
            "8944347       17850      82484       NaT     0.847623\n",
            "8943153       17850      22465       NaT     0.744852\n",
            "\n",
            "-------Product Name of Recommendations ------\n",
            "\n",
            "529     MightySkins Skin Decal Wrap Compatible with Sm...\n",
            "785     Awkward Styles Unisex USA Flag Pitbull Graphic...\n",
            "1216    8 1/2 x 14 Cardstock - Crystal Metallic (500 Q...\n",
            "1575    Mediven Sheer and Soft 15-20 mmHg Thigh w/ Lac...\n",
            "1603    Eye Buy Express Kids Childrens Reading Glasses...\n",
            "Name: Product Name, dtype: object\n"
          ]
        }
      ],
      "source": [
        "recommend_product(17850)"
      ]
    },
    {
      "cell_type": "code",
      "execution_count": null,
      "metadata": {
        "colab": {
          "base_uri": "https://localhost:8080/"
        },
        "outputId": "279fcd66-f9fd-47aa-d71d-19eed07a0862",
        "id": "4CsSyaPDbfMm"
      },
      "outputs": [
        {
          "name": "stdout",
          "output_type": "stream",
          "text": [
            " \n",
            "---------- Top 5 Bought StockCodes -----------\n",
            "\n",
            "        CustomerID StockCode  Quantity\n",
            "272296       15127     23263        48\n",
            "272287       15127     23354        24\n",
            "272288       15127     22813        24\n",
            "272289       15127     23096        24\n",
            "272285       15127     21181        12\n",
            "\n",
            "-------Product Name of bought StockCodes ------\n",
            "\n",
            "13                billyboards Porcelain School Chalkboard\n",
            "374     MightySkins Protective Vinyl Skin Decal for Po...\n",
            "923     Zoan Synchrony Duo Sport Electric Snow Helmet ...\n",
            "952     MightySkins Skin Decal Wrap Compatible with Sm...\n",
            "1576    EMPIRE KLIX Klutch Designer Wallet Case for LG G2\n",
            "Name: Product Name, dtype: object\n",
            "\n",
            " --------- Top 5 Recommendations ------------ \n",
            "\n",
            "         CustomerID  StockCode timestamp  probability\n",
            "4600119       15127      23399       NaT     0.999274\n",
            "4598969       15127      22154       NaT     0.998974\n",
            "4600550       15127      85152       NaT     0.998324\n",
            "4599505       15127      22737       NaT     0.994886\n",
            "4598237       15127      21034       NaT     0.993138\n",
            "\n",
            "-------Product Name of Recommendations ------\n",
            "\n",
            "215     MightySkins Skin Decal Wrap Compatible with Ap...\n",
            "567     MightySkins Skin Decal Wrap Compatible with Li...\n",
            "927     MightySkins Skin Decal Wrap Compatible with YE...\n",
            "1066    Election 2016 Keep Calm and Vote Santorum Blac...\n",
            "1413    MightySkins Skin Decal Wrap Compatible with Sm...\n",
            "Name: Product Name, dtype: object\n"
          ]
        }
      ],
      "source": [
        "recommend_product(15127)\n"
      ]
    },
    {
      "cell_type": "markdown",
      "metadata": {
        "id": "is3qxWYIbfMm"
      },
      "source": []
    },
    {
      "cell_type": "code",
      "execution_count": null,
      "metadata": {
        "colab": {
          "base_uri": "https://localhost:8080/"
        },
        "outputId": "f65ebd76-31cb-4c7c-a2ba-f702445478bc",
        "id": "AI5OLi6wbfMm"
      },
      "outputs": [
        {
          "name": "stdout",
          "output_type": "stream",
          "text": [
            " \n",
            "---------- Top 5 Bought StockCodes -----------\n",
            "\n",
            "        CustomerID StockCode  Quantity\n",
            "168005       15187     84945        72\n",
            "230220       15187     22128        60\n",
            "265118       15187     84945        48\n",
            "127141       15187     22197        36\n",
            "230218       15187     23310        36\n",
            "\n",
            "-------Product Name of bought StockCodes ------\n",
            "\n",
            "236     MightySkins Skin Decal Wrap Compatible with HP...\n",
            "559     Extreme Networks OUTDOOR IP66 802.3AT GB ETHRT...\n",
            "1817                     Women's Rialto Adora Ballet Flat\n",
            "1821    Clear 18 Note Acrylic Box Musical Paperweight ...\n",
            "Name: Product Name, dtype: object\n",
            "\n",
            " --------- Top 5 Recommendations ------------ \n",
            "\n",
            "         CustomerID  StockCode timestamp  probability\n",
            "4701744       15187      21206       NaT     0.999247\n",
            "4703609       15187      23547       NaT     0.999040\n",
            "4702759       15187      22580       NaT     0.997799\n",
            "4703241       15187      23082       NaT     0.997480\n",
            "4702500       15187      22299       NaT     0.995113\n",
            "\n",
            "-------Product Name of Recommendations ------\n",
            "\n",
            "518     8 1/2 x 14 Cardstock - Crystal Metallic (500 Q...\n",
            "522     MightySkins Skin For HP Envy x360 15z 15\" (201...\n",
            "1103    Ebe Glasses Men Women Rx Reading Rectangular F...\n",
            "1828    MightySkins Skin Decal Wrap Compatible with Sm...\n",
            "2445    E4 Safety Certified Rigid Seat Belt Extension ...\n",
            "Name: Product Name, dtype: object\n"
          ]
        }
      ],
      "source": [
        "recommend_product(15187)"
      ]
    },
    {
      "cell_type": "code",
      "execution_count": null,
      "metadata": {
        "id": "fFetgtEkbfMm"
      },
      "outputs": [],
      "source": []
    },
    {
      "cell_type": "code",
      "execution_count": null,
      "metadata": {
        "id": "VzHN31m1bfMm"
      },
      "outputs": [],
      "source": []
    },
    {
      "cell_type": "code",
      "execution_count": null,
      "metadata": {
        "id": "jalS60MabfMm"
      },
      "outputs": [],
      "source": []
    },
    {
      "cell_type": "code",
      "execution_count": null,
      "metadata": {
        "id": "cf5jp4LbbfMm",
        "outputId": "b94d6300-b06a-477f-dfe0-10fa6cb2f560"
      },
      "outputs": [
        {
          "data": {
            "image/png": "[encoded data removed]",
            "text/plain": [
              "<Figure size 1000x600 with 1 Axes>"
            ]
          },
          "metadata": {},
          "output_type": "display_data"
        }
      ],
      "source": [
        "import matplotlib.pyplot as plt\n",
        "import pandas as pd\n",
        "\n",
        "# Model performance data\n",
        "compare = pd.DataFrame({\n",
        "    \"Model\": [\n",
        "        \"NeuMF N_F=4 Layer Size(16-8-4)\", \"NeuMF N_F=16 Layer Size(16-8-4)\", \"GMF N_F=16 Layer Size(16-8-4)\",\n",
        "        \"MLP N_F=16 Layer Size(16-8-4)\", \"NeuMF N_F=32 Layer Size(16-8-4)\",\"NeuMF n_f=4 Layer Size(64-32-16)\"\n",
        "    ],\n",
        "    \"MAP\": [0.031396, 0.044629, 0.047148, 0.038024, 0.052095,0.048182],\n",
        "    \"NDCG\": [0.073275, 0.091884, 0.097896, 0.083776, 0.103652,0.096287],\n",
        "    \"Precision@K\": [0.049085, 0.057776, 0.062007, 0.054574, 0.062007,0.058433],\n",
        "    \"Recall@K\": [0.056756, 0.080322, 0.080752, 0.067928, 0.093809,0.086541]\n",
        "})\n",
        "\n",
        "# Define colors for each metric\n",
        "colors = ['#1f77b4', '#ff7f0e', '#2ca02c', '#d62728']  # Blue, Orange, Green, Red\n",
        "\n",
        "# Plot all evaluation metrics together\n",
        "plt.figure(figsize=(10, 6))\n",
        "\n",
        "bar_width = 0.2\n",
        "x = range(len(compare[\"Model\"]))\n",
        "\n",
        "plt.bar([i - 1.5 * bar_width for i in x], compare[\"MAP\"], width=bar_width, label=\"MAP\", color=colors[0])\n",
        "plt.bar([i - 0.5 * bar_width for i in x], compare[\"NDCG\"], width=bar_width, label=\"NDCG\", color=colors[1])\n",
        "plt.bar([i + 0.5 * bar_width for i in x], compare[\"Precision@K\"], width=bar_width, label=\"Precision@K\", color=colors[2])\n",
        "plt.bar([i + 1.5 * bar_width for i in x], compare[\"Recall@K\"], width=bar_width, label=\"Recall@K\", color=colors[3])\n",
        "\n",
        "plt.xticks(ticks=x, labels=compare[\"Model\"], rotation=45)\n",
        "plt.ylabel(\"Score\")\n",
        "plt.title(\"Model Performance Comparison\")\n",
        "plt.legend()\n",
        "plt.tight_layout()\n",
        "plt.grid(True, axis='y')\n",
        "\n",
        "plt.show()"
      ]
    },
    {
      "cell_type": "code",
      "execution_count": null,
      "metadata": {
        "id": "jAK1vFE3bfMm",
        "outputId": "3da1d27d-c389-410d-e968-2dc1e6c35e74"
      },
      "outputs": [
        {
          "data": {
            "image/png": "[encoded data removed]",
            "text/plain": [
              "<Figure size 1000x600 with 1 Axes>"
            ]
          },
          "metadata": {},
          "output_type": "display_data"
        }
      ],
      "source": [
        "import matplotlib.pyplot as plt\n",
        "import pandas as pd\n",
        "\n",
        "# Recreate the performance DataFrame\n",
        "compare = pd.DataFrame({\n",
        "    \"Model\": [\n",
        "        \"NeuMF N_F=4 Layer Size(16-8-4)\", \"NeuMF N_F=16 Layer Size(16-8-4)\", \"GMF N_F=16 Layer Size(16-8-4)\",\n",
        "        \"MLP N_F=16 Layer Size(16-8-4)\", \"NeuMF N_F=32 Layer Size(16-8-4)\",\"NeuMF n_f=4 Layer Size(64-32-16)\"\n",
        "    ],\n",
        "    \"MAP\": [0.031396, 0.044629, 0.047148, 0.038024, 0.052095,0.048182],\n",
        "    \"NDCG\": [0.073275, 0.091884, 0.097896, 0.083776, 0.103652,0.096287],\n",
        "    \"Precision@K\": [0.049085, 0.057776, 0.062007, 0.054574, 0.062007,0.058433],\n",
        "    \"Recall@K\": [0.056756, 0.080322, 0.080752, 0.067928, 0.093809,0.086541]\n",
        "})\n",
        "\n",
        "# Define training and prediction times\n",
        "training_times = [475.03, 468.96, 416.85, 429.74, 1418.23,1296.92]\n",
        "prediction_times = [12.47, 12.38, 11.94, 12.35, 29.27,14.20]\n",
        "\n",
        "# Plotting\n",
        "plt.figure(figsize=(10, 6))\n",
        "\n",
        "bar_width = 0.35\n",
        "x = range(len(compare[\"Model\"]))\n",
        "\n",
        "# New cleaner colors\n",
        "training_color = '#4daf4a'     # Green\n",
        "prediction_color = '#377eb8'   # Blue\n",
        "\n",
        "plt.bar([i - bar_width / 2 for i in x], training_times, width=bar_width, label=\"Training Time (s)\", color=training_color)\n",
        "plt.bar([i + bar_width / 2 for i in x], prediction_times, width=bar_width, label=\"Prediction Time (s)\", color=prediction_color)\n",
        "\n",
        "plt.xticks(ticks=x, labels=compare[\"Model\"], rotation=45)\n",
        "plt.ylabel(\"Time (seconds)\")\n",
        "plt.title(\"Training and Prediction Time Comparison\")\n",
        "plt.legend()\n",
        "plt.grid(True, axis='y')\n",
        "plt.tight_layout()\n",
        "\n",
        "plt.show()\n"
      ]
    },
    {
      "cell_type": "code",
      "execution_count": null,
      "metadata": {
        "id": "j_XzJGwNbfMm"
      },
      "outputs": [],
      "source": []
    }
  ],
  "metadata": {
    "accelerator": "GPU",
    "colab": {
      "gpuType": "L4",
      "provenance": [],
      "include_colab_link": true
    },
    "kernelspec": {
      "display_name": "Python 3 (ipykernel)",
      "language": "python",
      "name": "python3"
    },
    "language_info": {
      "codemirror_mode": {
        "name": "ipython",
        "version": 3
      },
      "file_extension": ".py",
      "mimetype": "text/x-python",
      "name": "python",
      "nbconvert_exporter": "python",
      "pygments_lexer": "ipython3",
      "version": "3.12.4"
    }
  },
  "nbformat": 4,
  "nbformat_minor": 0
}